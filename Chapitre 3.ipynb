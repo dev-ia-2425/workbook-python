{
 "cells": [
  {
   "cell_type": "code",
   "execution_count": 374,
   "id": "7059824f-ffea-47fd-97aa-9c6ef0f32d4b",
   "metadata": {},
   "outputs": [
    {
     "name": "stdin",
     "output_type": "stream",
     "text": [
      "Votre liste de nombre (finir par 0) : 1, 5, 7, 8, 0\n"
     ]
    },
    {
     "name": "stdout",
     "output_type": "stream",
     "text": [
      "La moyenne : 5.25\n"
     ]
    }
   ],
   "source": [
    "# 63\n",
    "numbers = input(\"Votre liste de nombre (finir par 0) :\").replace(\" \", \"\").split(\",\")\n",
    "avg = 0\n",
    "l = len(numbers)\n",
    "\n",
    "for number in numbers:\n",
    "    if number == '0':\n",
    "        l -= 1\n",
    "        break\n",
    "\n",
    "    avg += float(number)\n",
    "\n",
    "avg /= l\n",
    "print(\"La moyenne : %.2f\" % avg)"
   ]
  },
  {
   "cell_type": "code",
   "execution_count": 33,
   "id": "5e910421-c3a4-421c-818b-b4fa4e6dcee9",
   "metadata": {},
   "outputs": [
    {
     "name": "stdout",
     "output_type": "stream",
     "text": [
      "Ancien prix : 4.95 € \t| Remise : 1.98 € \t| Nouveau prix : 6.93 € \n",
      "Ancien prix : 9.95 € \t| Remise : 3.98 € \t| Nouveau prix : 13.93 € \n",
      "Ancien prix : 14.95 € \t| Remise : 5.98 € \t| Nouveau prix : 20.93 € \n",
      "Ancien prix : 19.95 € \t| Remise : 7.98 € \t| Nouveau prix : 27.93 € \n",
      "Ancien prix : 24.95 € \t| Remise : 9.98 € \t| Nouveau prix : 34.93 € \n"
     ]
    }
   ],
   "source": [
    "# 64\n",
    "prices = [4.95, 9.95, 14.95, 19.95, 24.95]\n",
    "\n",
    "for price in prices:\n",
    "    discount = price * 0.4\n",
    "    new_price = price + discount\n",
    "\n",
    "    print(\"Ancien prix : %.2f € \\t| Remise : %.2f € \\t| Nouveau prix : %.2f € \" % (price, discount, new_price))"
   ]
  },
  {
   "cell_type": "code",
   "execution_count": 39,
   "id": "34562ca7-4261-490e-8863-4f9fe2a6fa2d",
   "metadata": {},
   "outputs": [
    {
     "name": "stdout",
     "output_type": "stream",
     "text": [
      "0 °C \t 32.00 F\n",
      "10 °C \t 50.00 F\n",
      "20 °C \t 68.00 F\n",
      "30 °C \t 86.00 F\n",
      "40 °C \t 104.00 F\n",
      "50 °C \t 122.00 F\n",
      "60 °C \t 140.00 F\n",
      "70 °C \t 158.00 F\n",
      "80 °C \t 176.00 F\n",
      "90 °C \t 194.00 F\n",
      "100 °C \t 212.00 F\n"
     ]
    }
   ],
   "source": [
    "# 65\n",
    "for celsius in range(0, 101, 10):\n",
    "    fahrenheit = celsius * (9 / 5) + 32\n",
    "    print(\"%u °C \\t %.2f F\" % (celsius, fahrenheit))"
   ]
  },
  {
   "cell_type": "code",
   "execution_count": 53,
   "id": "23d7fdbe-59fd-403d-a498-7680b1727780",
   "metadata": {},
   "outputs": [
    {
     "name": "stdin",
     "output_type": "stream",
     "text": [
      "Composante X du point n°1 0\n",
      "Composante Y du point n°1 0\n",
      "Composante X du point n°2 0\n",
      "Composante Y du point n°2 1\n",
      "Composante X du point n°3 1\n",
      "Composante Y du point n°3 1\n",
      "Composante X du point n°4 1\n",
      "Composante Y du point n°4 0\n",
      "Composante X du point n°5 \n"
     ]
    },
    {
     "name": "stdout",
     "output_type": "stream",
     "text": [
      "\n",
      "Le perimetre de la forme est : 4.00\n"
     ]
    }
   ],
   "source": [
    "# 67\n",
    "from math import sqrt\n",
    "\n",
    "i = 1\n",
    "x = float(input(\"Composante X du point n°%u\" % i))\n",
    "y = float(input(\"Composante Y du point n°%u\" % i))\n",
    "\n",
    "x1 = x\n",
    "y1 = y\n",
    "\n",
    "perimeter = 0\n",
    "\n",
    "while True:\n",
    "    i += 1\n",
    "    x2 = input(\"Composante X du point n°%u\" % i)\n",
    "    if x2 == \"\": \n",
    "        break\n",
    "    \n",
    "    y2 = input(\"Composante Y du point n°%u\" % i)\n",
    "    if y2 == \"\":\n",
    "        break\n",
    "\n",
    "    x2 = float(x2)\n",
    "    y2 = float(y2)\n",
    "\n",
    "    perimeter += sqrt((x2 - x1)**2 + (y2 - y1)**2)\n",
    "\n",
    "    x1 = x2\n",
    "    y1 = y2\n",
    "\n",
    "perimeter += sqrt((x - x1)**2 + (y - y1)**2)\n",
    "\n",
    "print()\n",
    "print(\"Le perimetre de la forme est : %.2f\" % perimeter)"
   ]
  },
  {
   "cell_type": "code",
   "execution_count": 63,
   "id": "73466198-141a-4c4d-9cce-44f141a048c1",
   "metadata": {},
   "outputs": [
    {
     "name": "stdin",
     "output_type": "stream",
     "text": [
      "Octet en binaire : 10101010\n"
     ]
    },
    {
     "name": "stdout",
     "output_type": "stream",
     "text": [
      "Le bit de parité est 0\n"
     ]
    },
    {
     "name": "stdin",
     "output_type": "stream",
     "text": [
      "Octet en binaire : 10101011\n"
     ]
    },
    {
     "name": "stdout",
     "output_type": "stream",
     "text": [
      "Le bit de parité est 1\n"
     ]
    },
    {
     "name": "stdin",
     "output_type": "stream",
     "text": [
      "Octet en binaire : \n"
     ]
    }
   ],
   "source": [
    "# 70\n",
    "byte = input(\"Octet en binaire :\")\n",
    "\n",
    "while byte != \"\" and len(byte) == 8:\n",
    "    n = 0\n",
    "    for bit in byte:\n",
    "        if bit == \"1\":\n",
    "            n += 1\n",
    "        elif bit != \"0\":\n",
    "            print(\"Erreur : la chaîne doit être uniquement composée de 0 et de 1\")\n",
    "            break;\n",
    "\n",
    "    if n % 2 == 0:\n",
    "        print(\"Le bit de parité est 0\")\n",
    "    else:\n",
    "        print(\"Le bit de parité est 1\")\n",
    "\n",
    "    byte = input(\"Octet en binaire :\")"
   ]
  },
  {
   "cell_type": "code",
   "execution_count": 83,
   "id": "46f420d7-0fdf-4047-b56c-ae44d9b38dc0",
   "metadata": {},
   "outputs": [
    {
     "name": "stdout",
     "output_type": "stream",
     "text": [
      "3.000000\n",
      "3.166667\n",
      "3.133333\n",
      "3.145238\n",
      "3.139683\n",
      "3.142713\n",
      "3.140881\n",
      "3.142072\n",
      "3.141255\n",
      "3.141840\n",
      "3.141407\n",
      "3.141736\n",
      "3.141480\n",
      "3.141683\n",
      "3.141519\n"
     ]
    }
   ],
   "source": [
    "# 71\n",
    "pi = 3\n",
    "print(\"%f\" % pi)\n",
    "n = 2\n",
    "\n",
    "for i in range(1, 15):\n",
    "    if i % 2 == 1:\n",
    "        pi += 4 / (n * (n + 1) * (n + 2))\n",
    "    else:\n",
    "        pi -= 4 / (n * (n + 1) * (n + 2))\n",
    "\n",
    "    n += 2\n",
    "    print(\"%f\" % pi)"
   ]
  },
  {
   "cell_type": "code",
   "execution_count": 91,
   "id": "83199408-0f9e-4ff9-b98f-cbf2cc8d4607",
   "metadata": {},
   "outputs": [
    {
     "name": "stdout",
     "output_type": "stream",
     "text": [
      "1 \t-> 1 !\n",
      "2 \t-> 2 !\n",
      "3 \t-> fizz !\n",
      "4 \t-> 4 !\n",
      "5 \t-> buzz !\n",
      "6 \t-> fizz !\n",
      "7 \t-> 7 !\n",
      "8 \t-> 8 !\n",
      "9 \t-> fizz !\n",
      "10 \t-> buzz !\n",
      "11 \t-> 11 !\n",
      "12 \t-> fizz !\n",
      "13 \t-> 13 !\n",
      "14 \t-> 14 !\n",
      "15 \t-> fizz !\n",
      "16 \t-> 16 !\n",
      "17 \t-> 17 !\n",
      "18 \t-> fizz !\n",
      "19 \t-> 19 !\n",
      "20 \t-> buzz !\n",
      "21 \t-> fizz !\n",
      "22 \t-> 22 !\n",
      "23 \t-> 23 !\n",
      "24 \t-> fizz !\n",
      "25 \t-> buzz !\n",
      "26 \t-> 26 !\n",
      "27 \t-> fizz !\n",
      "28 \t-> 28 !\n",
      "29 \t-> 29 !\n",
      "30 \t-> fizz !\n",
      "31 \t-> 31 !\n",
      "32 \t-> 32 !\n",
      "33 \t-> fizz !\n",
      "34 \t-> 34 !\n",
      "35 \t-> buzz !\n",
      "36 \t-> fizz !\n",
      "37 \t-> 37 !\n",
      "38 \t-> 38 !\n",
      "39 \t-> fizz !\n",
      "40 \t-> buzz !\n",
      "41 \t-> 41 !\n",
      "42 \t-> fizz !\n",
      "43 \t-> 43 !\n",
      "44 \t-> 44 !\n",
      "45 \t-> fizz !\n",
      "46 \t-> 46 !\n",
      "47 \t-> 47 !\n",
      "48 \t-> fizz !\n",
      "49 \t-> 49 !\n",
      "50 \t-> buzz !\n",
      "51 \t-> fizz !\n",
      "52 \t-> 52 !\n",
      "53 \t-> 53 !\n",
      "54 \t-> fizz !\n",
      "55 \t-> buzz !\n",
      "56 \t-> 56 !\n",
      "57 \t-> fizz !\n",
      "58 \t-> 58 !\n",
      "59 \t-> 59 !\n",
      "60 \t-> fizz !\n",
      "61 \t-> 61 !\n",
      "62 \t-> 62 !\n",
      "63 \t-> fizz !\n",
      "64 \t-> 64 !\n",
      "65 \t-> buzz !\n",
      "66 \t-> fizz !\n",
      "67 \t-> 67 !\n",
      "68 \t-> 68 !\n",
      "69 \t-> fizz !\n",
      "70 \t-> buzz !\n",
      "71 \t-> 71 !\n",
      "72 \t-> fizz !\n",
      "73 \t-> 73 !\n",
      "74 \t-> 74 !\n",
      "75 \t-> fizz !\n",
      "76 \t-> 76 !\n",
      "77 \t-> 77 !\n",
      "78 \t-> fizz !\n",
      "79 \t-> 79 !\n",
      "80 \t-> buzz !\n",
      "81 \t-> fizz !\n",
      "82 \t-> 82 !\n",
      "83 \t-> 83 !\n",
      "84 \t-> fizz !\n",
      "85 \t-> buzz !\n",
      "86 \t-> 86 !\n",
      "87 \t-> fizz !\n",
      "88 \t-> 88 !\n",
      "89 \t-> 89 !\n",
      "90 \t-> fizz !\n",
      "91 \t-> 91 !\n",
      "92 \t-> 92 !\n",
      "93 \t-> fizz !\n",
      "94 \t-> 94 !\n",
      "95 \t-> buzz !\n",
      "96 \t-> fizz !\n",
      "97 \t-> 97 !\n",
      "98 \t-> 98 !\n",
      "99 \t-> fizz !\n",
      "100 \t-> buzz !\n"
     ]
    }
   ],
   "source": [
    "# 72\n",
    "for i in range (1, 101):\n",
    "    if i % 3 == 0:\n",
    "        print(\"%u \\t-> fizz !\" % i)\n",
    "    elif i % 5 == 0:\n",
    "        print(\"%u \\t-> buzz !\" % i)\n",
    "    else:\n",
    "        print(\"%u \\t-> %u !\" % (i, i))"
   ]
  },
  {
   "cell_type": "code",
   "execution_count": 119,
   "id": "c5131cb1-4731-434a-81f2-81fc8c5ced8d",
   "metadata": {},
   "outputs": [
    {
     "name": "stdin",
     "output_type": "stream",
     "text": [
      "Message à encoder : abc\n",
      "Décalage à appliquer : -1\n"
     ]
    },
    {
     "name": "stdout",
     "output_type": "stream",
     "text": [
      "Message encodé : zab\n"
     ]
    }
   ],
   "source": [
    "# 73\n",
    "message = input(\"Message à encoder :\")\n",
    "shift = int(input(\"Décalage à appliquer :\"))\n",
    "output = \"\"\n",
    "\n",
    "for letter in message:\n",
    "    if letter >= \"A\" and letter <= \"Z\":\n",
    "        output += chr(((ord(letter) - ord(\"A\") + shift) % 26) + ord(\"A\"))\n",
    "    elif letter >= \"a\" and letter <= \"z\":\n",
    "        output += chr(((ord(letter) - ord(\"a\") + shift) % 26) + ord(\"a\"))\n",
    "    else:\n",
    "        output += letter\n",
    "\n",
    "print(\"Message encodé : %s\" % output)"
   ]
  },
  {
   "cell_type": "code",
   "execution_count": 135,
   "id": "5a5c96a2-2150-481a-8e58-d90cfafec535",
   "metadata": {},
   "outputs": [
    {
     "name": "stdin",
     "output_type": "stream",
     "text": [
      "Nombre : 64\n"
     ]
    },
    {
     "name": "stdout",
     "output_type": "stream",
     "text": [
      "Racine carrée : 8.000000\n"
     ]
    }
   ],
   "source": [
    "# 74\n",
    "x = float(input(\"Nombre :\"))\n",
    "guess = x / 2\n",
    "\n",
    "while abs((guess ** 2) - x) > 0.0000000001:\n",
    "    guess = (guess + (x / guess)) / 2\n",
    "\n",
    "print(\"Racine carrée : %f\" % guess)"
   ]
  },
  {
   "cell_type": "code",
   "execution_count": 151,
   "id": "5d6c5a71-5baa-470e-a867-eed7a65c40f0",
   "metadata": {},
   "outputs": [
    {
     "name": "stdin",
     "output_type": "stream",
     "text": [
      "Votre mot : Aibohphobia\n"
     ]
    },
    {
     "name": "stdout",
     "output_type": "stream",
     "text": [
      "Le mot est un palindrome\n"
     ]
    }
   ],
   "source": [
    "# 75\n",
    "word = input(\"Votre mot :\").lower()\n",
    "l = len(word) // 2 + 1\n",
    "palindrome = True\n",
    "\n",
    "for i in range(0, l):\n",
    "    if word[i] != word[-i-1]:\n",
    "        palindrome = False\n",
    "        break\n",
    "\n",
    "if palindrome:\n",
    "    print(\"Le mot est un palindrome\")\n",
    "else:\n",
    "    print(\"Le mot n'est pas un palindrome\")"
   ]
  },
  {
   "cell_type": "code",
   "execution_count": 155,
   "id": "abc3a224-9f37-434f-9cc4-3feeb4ed378f",
   "metadata": {},
   "outputs": [
    {
     "name": "stdin",
     "output_type": "stream",
     "text": [
      "Votre mot : flee to me remote elf\n"
     ]
    },
    {
     "name": "stdout",
     "output_type": "stream",
     "text": [
      "Le mot est un palindrome\n"
     ]
    }
   ],
   "source": [
    "# 76\n",
    "word = input(\"Votre mot :\").lower().replace(\" \", \"\")\n",
    "l = len(word) // 2 + 1\n",
    "palindrome = True\n",
    "\n",
    "for i in range(0, l):\n",
    "    if word[i] != word[-i-1]:\n",
    "        palindrome = False\n",
    "        break\n",
    "\n",
    "if palindrome:\n",
    "    print(\"Le mot est un palindrome\")\n",
    "else:\n",
    "    print(\"Le mot n'est pas un palindrome\")"
   ]
  },
  {
   "cell_type": "code",
   "execution_count": 185,
   "id": "27d3fa3c-f5a2-41eb-bb1f-59941a9b50c2",
   "metadata": {},
   "outputs": [
    {
     "name": "stdout",
     "output_type": "stream",
     "text": [
      " \t1\t2\t3\t4\t5\t6\t7\t8\t9\t10\n",
      "1\t1\t2\t3\t4\t5\t6\t7\t8\t9\t10\t\n",
      "2\t2\t4\t6\t8\t10\t12\t14\t16\t18\t20\t\n",
      "3\t3\t6\t9\t12\t15\t18\t21\t24\t27\t30\t\n",
      "4\t4\t8\t12\t16\t20\t24\t28\t32\t36\t40\t\n",
      "5\t5\t10\t15\t20\t25\t30\t35\t40\t45\t50\t\n",
      "6\t6\t12\t18\t24\t30\t36\t42\t48\t54\t60\t\n",
      "7\t7\t14\t21\t28\t35\t42\t49\t56\t63\t70\t\n",
      "8\t8\t16\t24\t32\t40\t48\t56\t64\t72\t80\t\n",
      "9\t9\t18\t27\t36\t45\t54\t63\t72\t81\t90\t\n",
      "10\t10\t20\t30\t40\t50\t60\t70\t80\t90\t100\t\n"
     ]
    }
   ],
   "source": [
    "# 77\n",
    "print(\" \", end = \"\")\n",
    "for i in range(1, 11):\n",
    "    print(\"\\t%u\" % i, end = \"\")\n",
    "print()\n",
    "\n",
    "for i in range(1, 11):\n",
    "    print(\"%u\\t\" % i, end = \"\")\n",
    "    for j in range(1, 11):\n",
    "        print(\"%u\\t\" % (i * j), end = \"\")\n",
    "    print()"
   ]
  },
  {
   "cell_type": "code",
   "execution_count": 193,
   "id": "83113906-fa25-4203-b071-b364fed89e20",
   "metadata": {},
   "outputs": [
    {
     "name": "stdin",
     "output_type": "stream",
     "text": [
      "Nombre entier : 14\n"
     ]
    },
    {
     "name": "stdout",
     "output_type": "stream",
     "text": [
      "Suite de Collatz associée : [14, 7, 22, 11, 34, 17, 52, 26, 13, 40, 20, 10, 5, 16, 8, 4, 2, 1]\n"
     ]
    }
   ],
   "source": [
    "# 78\n",
    "n = int(input(\"Nombre entier :\"))\n",
    "sequence = [n]\n",
    "last = sequence[-1]\n",
    "\n",
    "while last != 1:\n",
    "    if last % 2 == 0:\n",
    "        sequence.append(last // 2)\n",
    "    else:\n",
    "        sequence.append(last * 3 + 1)\n",
    "    \n",
    "    last = sequence[-1]\n",
    "\n",
    "print(\"Suite de Collatz associée :\", sequence)"
   ]
  },
  {
   "cell_type": "code",
   "execution_count": 5,
   "id": "43c445a3-0db2-4aeb-8a3d-a0d500c92121",
   "metadata": {},
   "outputs": [
    {
     "name": "stdin",
     "output_type": "stream",
     "text": [
      "Nombre entier : 14\n",
      "Nombre entier : 7\n"
     ]
    },
    {
     "name": "stdout",
     "output_type": "stream",
     "text": [
      "pgcd(14, 7) = 7\n"
     ]
    }
   ],
   "source": [
    "# 79\n",
    "n = int(input(\"Nombre entier :\"))\n",
    "m = int(input(\"Nombre entier :\"))\n",
    "\n",
    "d = min(n, m)\n",
    "\n",
    "while n % d != 0 or n % d != 0:\n",
    "    d -= 1\n",
    "\n",
    "print(\"pgcd(%u, %u) = %u\" % (n, m, d))"
   ]
  },
  {
   "cell_type": "code",
   "execution_count": 11,
   "id": "f4fd1b82-5ac4-47a1-8f6b-23fc0b3be106",
   "metadata": {},
   "outputs": [
    {
     "name": "stdin",
     "output_type": "stream",
     "text": [
      "Nombre entier : 63\n"
     ]
    },
    {
     "name": "stdout",
     "output_type": "stream",
     "text": [
      "Les facteurs premiers de 63 sont :\n",
      "3\n",
      "3\n",
      "7\n"
     ]
    }
   ],
   "source": [
    "# 80\n",
    "n = int(input(\"Nombre entier :\"))\n",
    "\n",
    "factor = 2\n",
    "\n",
    "print(\"Les facteurs premiers de %u sont :\" % n)\n",
    "while factor <= n:\n",
    "    if n % factor == 0:\n",
    "        print(factor)\n",
    "        n //= factor\n",
    "    else:\n",
    "        factor += 1"
   ]
  },
  {
   "cell_type": "code",
   "execution_count": 31,
   "id": "bda00657-53a9-4edf-9797-6a908bdea8da",
   "metadata": {},
   "outputs": [
    {
     "name": "stdin",
     "output_type": "stream",
     "text": [
      "Nombre (binaire) : 10000\n"
     ]
    },
    {
     "name": "stdout",
     "output_type": "stream",
     "text": [
      "Nombre (décimal) : 16\n"
     ]
    }
   ],
   "source": [
    "# 81\n",
    "binary = input(\"Nombre (binaire) :\")\n",
    "l = len(binary) + 1\n",
    "decimal = 0\n",
    "\n",
    "for i in range(1, l):\n",
    "    if binary[-i] == \"1\":\n",
    "       decimal += 2**(i-1)\n",
    "\n",
    "print(\"Nombre (décimal) : %u\" % decimal)"
   ]
  },
  {
   "cell_type": "code",
   "execution_count": 39,
   "id": "f01c973d-c064-4ee5-b64c-73b8eb7d20f4",
   "metadata": {},
   "outputs": [
    {
     "name": "stdin",
     "output_type": "stream",
     "text": [
      "Nombre (décimal) : 16\n"
     ]
    },
    {
     "name": "stdout",
     "output_type": "stream",
     "text": [
      "Nombre (binaire) : 10000\n"
     ]
    }
   ],
   "source": [
    "# 82\n",
    "decimal = int(input(\"Nombre (décimal) :\"))\n",
    "\n",
    "binary = \"\"\n",
    "\n",
    "while decimal != 0:\n",
    "    r = decimal % 2\n",
    "    binary = str(r) + binary\n",
    "    decimal //= 2\n",
    "\n",
    "print(\"Nombre (binaire) : %s\" % binary)"
   ]
  },
  {
   "cell_type": "code",
   "execution_count": 268,
   "id": "8e12d194-1b8b-4b0b-bffe-bfd95bf22304",
   "metadata": {},
   "outputs": [
    {
     "name": "stdout",
     "output_type": "stream",
     "text": [
      "16\n",
      "31\n",
      "20\n",
      "13\n",
      "93 <== Mise à jour\n",
      "55\n",
      "75\n",
      "61\n",
      "52\n",
      "88\n",
      "81\n",
      "38\n",
      "68\n",
      "33\n",
      "38\n",
      "50\n",
      "68\n",
      "85\n",
      "47\n",
      "78\n",
      "29\n",
      "63\n",
      "21\n",
      "26\n",
      "79\n",
      "35\n",
      "91\n",
      "49\n",
      "39\n",
      "56\n",
      "75\n",
      "51\n",
      "43\n",
      "88\n",
      "25\n",
      "86\n",
      "69\n",
      "86\n",
      "23\n",
      "22\n",
      "62\n",
      "39\n",
      "35\n",
      "42\n",
      "93\n",
      "37\n",
      "24\n",
      "91\n",
      "34\n",
      "41\n",
      "82\n",
      "5\n",
      "15\n",
      "87\n",
      "89\n",
      "55\n",
      "48\n",
      "31\n",
      "61\n",
      "67\n",
      "7\n",
      "31\n",
      "82\n",
      "17\n",
      "74\n",
      "20\n",
      "2\n",
      "35\n",
      "30\n",
      "81\n",
      "59\n",
      "65\n",
      "53\n",
      "35\n",
      "52\n",
      "27\n",
      "51\n",
      "86\n",
      "93\n",
      "72\n",
      "46\n",
      "88\n",
      "42\n",
      "64\n",
      "51\n",
      "91\n",
      "89\n",
      "9\n",
      "14\n",
      "49\n",
      "58\n",
      "18\n",
      "23\n",
      "48\n",
      "2\n",
      "54\n",
      "16\n",
      "37\n",
      "96 <== Mise à jour\n",
      "65\n",
      "Le max est 96\n",
      "Il a eu 2 MAJs\n"
     ]
    }
   ],
   "source": [
    "# 83\n",
    "from random import randint\n",
    "\n",
    "max = randint(1, 100)\n",
    "numbers = []\n",
    "count = 0\n",
    "\n",
    "for i in range(0, 100):\n",
    "    numbers.append(randint(1, 100))\n",
    "\n",
    "for number in numbers:\n",
    "    print(number, end=\"\")\n",
    "    if number > max:\n",
    "        max = number \n",
    "        count += 1\n",
    "        print(\" <== Mise à jour\")\n",
    "    else:\n",
    "        print()\n",
    "\n",
    "print(\"Le max est %u\" % max)\n",
    "print(\"Il a eu %u MAJs\" % count)"
   ]
  },
  {
   "cell_type": "code",
   "execution_count": 370,
   "id": "c10b0f9a-846c-4e2f-854a-1e28a50654ca",
   "metadata": {},
   "outputs": [
    {
     "name": "stdout",
     "output_type": "stream",
     "text": [
      "P F P P F F F F P F P P P (13 lancés)\n",
      "F P F P F P P F F F P F P F P F P P F P P P (22 lancés)\n",
      "P P F P P P (6 lancés)\n",
      "F F P F F P P P (8 lancés)\n",
      "F F F P P P (6 lancés)\n",
      "P P F F F F F F P P P (11 lancés)\n",
      "F F F F P F P F P F F P F P F F F P F P P F P F F F P F P P F P F P P P (36 lancés)\n",
      "P P P (3 lancés)\n",
      "P F P F F P P P (8 lancés)\n",
      "F P P F F F F F F P P F F F F P F P F F F F P F P F P P P (29 lancés)\n",
      "F F P F P F F F F P F P F P F F P P P (19 lancés)\n",
      "En moyenne, il aura fallu 16.10 lancés\n"
     ]
    }
   ],
   "source": [
    "# 84\n",
    "def coin_toss(n):\n",
    "    from random import choice\n",
    "    \n",
    "    total = 0\n",
    "    \n",
    "    for i in range(0, n + 1):\n",
    "        count = 0\n",
    "        number = 0\n",
    "        while number != 3:\n",
    "            flip = choice([\"P\", \"F\"])\n",
    "            print(flip, end=\" \")\n",
    "            \n",
    "            if flip == \"P\":\n",
    "                number += 1\n",
    "            else:\n",
    "                number = 0\n",
    "    \n",
    "            count += 1\n",
    "    \n",
    "        print(\"(%u lancés)\" % count)\n",
    "        total += count\n",
    "    \n",
    "    print(\"En moyenne, il aura fallu %.2f lancés\" % (total/n))\n",
    "\n",
    "coin_toss(10)"
   ]
  }
 ],
 "metadata": {
  "kernelspec": {
   "display_name": "Python 3 (ipykernel)",
   "language": "python",
   "name": "python3"
  },
  "language_info": {
   "codemirror_mode": {
    "name": "ipython",
    "version": 3
   },
   "file_extension": ".py",
   "mimetype": "text/x-python",
   "name": "python",
   "nbconvert_exporter": "python",
   "pygments_lexer": "ipython3",
   "version": "3.12.4"
  }
 },
 "nbformat": 4,
 "nbformat_minor": 5
}
