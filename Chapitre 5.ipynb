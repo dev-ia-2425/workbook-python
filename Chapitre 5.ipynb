{
 "cells": [
  {
   "cell_type": "code",
   "execution_count": 3,
   "id": "9ed9daad-a438-461c-a89c-9b5c9702234c",
   "metadata": {},
   "outputs": [
    {
     "name": "stdin",
     "output_type": "stream",
     "text": [
      "Nombre : 2\n",
      "Nombre : 5\n",
      "Nombre : 1\n",
      "Nombre : 22\n",
      "Nombre : 14\n",
      "Nombre : \n"
     ]
    },
    {
     "name": "stdout",
     "output_type": "stream",
     "text": [
      "1.0\n",
      "2.0\n",
      "5.0\n",
      "14.0\n",
      "22.0\n"
     ]
    }
   ],
   "source": [
    "# 110\n",
    "number = input(\"Nombre :\")\n",
    "numbers = []\n",
    "\n",
    "while number != \"\":\n",
    "    numbers.append(float(number))\n",
    "    number = input(\"Nombre :\")\n",
    "\n",
    "numbers.sort()\n",
    "\n",
    "for nb in numbers:\n",
    "    print(nb)"
   ]
  },
  {
   "cell_type": "code",
   "execution_count": 9,
   "id": "95ca672e-60a0-42f7-8b97-bf9971f904f1",
   "metadata": {},
   "outputs": [
    {
     "name": "stdin",
     "output_type": "stream",
     "text": [
      "Nombre : 1\n",
      "Nombre : 3\n",
      "Nombre : 2\n",
      "Nombre : 5\n",
      "Nombre : 4\n",
      "Nombre : \n"
     ]
    },
    {
     "name": "stdout",
     "output_type": "stream",
     "text": [
      "5.0\n",
      "4.0\n",
      "3.0\n",
      "2.0\n",
      "1.0\n"
     ]
    }
   ],
   "source": [
    "# 111\n",
    "number = input(\"Nombre :\")\n",
    "numbers = []\n",
    "\n",
    "while number != \"\":\n",
    "    numbers.append(float(number))\n",
    "    number = input(\"Nombre :\")\n",
    "\n",
    "numbers.sort(reverse = True)\n",
    "\n",
    "for nb in numbers:\n",
    "    print(nb)"
   ]
  },
  {
   "cell_type": "code",
   "execution_count": 35,
   "id": "70cf0185-b87d-4b87-83b2-963d7e756dad",
   "metadata": {},
   "outputs": [
    {
     "name": "stdout",
     "output_type": "stream",
     "text": [
      "[2, 4, 2, 4, 5]\n",
      "[4, 2, 4]\n"
     ]
    }
   ],
   "source": [
    "# 112\n",
    "def removeOutliers(old_list, n):\n",
    "    new_list = old_list.copy()\n",
    "    \n",
    "    reference = old_list.copy()\n",
    "    reference.sort()\n",
    "\n",
    "    for i in range(0, n):\n",
    "        new_list.remove(reference[i])\n",
    "        new_list.remove(reference[-i-1])\n",
    "    \n",
    "    return new_list;\n",
    "\n",
    "arr = [1, 2, 4, 2, 4, 5, 8]\n",
    "\n",
    "print(removeOutliers(arr, 1))\n",
    "print(removeOutliers(arr, 2))"
   ]
  },
  {
   "cell_type": "code",
   "execution_count": 78,
   "id": "624b2a80-41db-4aac-8e90-165398e7ce21",
   "metadata": {},
   "outputs": [
    {
     "name": "stdin",
     "output_type": "stream",
     "text": [
      "Input : a\n",
      "Input : b\n",
      "Input : c\n",
      "Input : a\n",
      "Input : b\n",
      "Input : c\n",
      "Input : a\n",
      "Input : a\n",
      "Input : a\n",
      "Input : \n"
     ]
    },
    {
     "name": "stdout",
     "output_type": "stream",
     "text": [
      "['a', 'b', 'c', 'a', 'b', 'c', 'a', 'a', 'a']\n",
      "['a', 'b', 'c']\n"
     ]
    }
   ],
   "source": [
    "# 113\n",
    "text = input(\"Input :\")\n",
    "list = []\n",
    "\n",
    "while text != \"\":\n",
    "    list.append(text)\n",
    "    text = input(\"Input :\")\n",
    "\n",
    "print(list)\n",
    "\n",
    "for i in range(0, len(list)-1):\n",
    "    duplicate = True\n",
    "    while duplicate:\n",
    "        try :\n",
    "            j = list[i+1:].index(list[i])\n",
    "            list.pop(j + 1)\n",
    "        except:\n",
    "            duplicate = False\n",
    "\n",
    "print(list)"
   ]
  },
  {
   "cell_type": "code",
   "execution_count": 80,
   "id": "a538ef9c-60ee-4fa1-a348-8cb6595e57ce",
   "metadata": {},
   "outputs": [
    {
     "name": "stdin",
     "output_type": "stream",
     "text": [
      "Nombre entier : 0\n",
      "Nombre entier : 1\n",
      "Nombre entier : -5\n",
      "Nombre entier : -6\n",
      "Nombre entier : 0\n",
      "Nombre entier : 1\n",
      "Nombre entier : 9\n",
      "Nombre entier : 5\n",
      "Nombre entier : \n"
     ]
    },
    {
     "name": "stdout",
     "output_type": "stream",
     "text": [
      "-6\n",
      "-5\n",
      "0\n",
      "0\n",
      "1\n",
      "1\n",
      "5\n",
      "9\n"
     ]
    }
   ],
   "source": [
    "# 114\n",
    "numbers = []\n",
    "number = input(\"Nombre entier :\")\n",
    "\n",
    "while number != \"\":\n",
    "    numbers.append(int(number))\n",
    "    number = input(\"Nombre entier :\")\n",
    "\n",
    "numbers.sort()\n",
    "\n",
    "for number in numbers:\n",
    "    print(number)"
   ]
  },
  {
   "cell_type": "code",
   "execution_count": 86,
   "id": "21e3915d-f50a-4011-8a42-ee9f841ca844",
   "metadata": {},
   "outputs": [
    {
     "name": "stdout",
     "output_type": "stream",
     "text": [
      "[1, 2, 3, 4, 5, 6, 10, 12, 15, 20, 30]\n",
      "[1]\n"
     ]
    }
   ],
   "source": [
    "# 115\n",
    "def properDivisors(n):\n",
    "    divisors = []\n",
    "    for i in range(1, n):\n",
    "        if n % i == 0:\n",
    "            divisors.append(i)\n",
    "\n",
    "    return divisors\n",
    "\n",
    "print(properDivisors(60))\n",
    "print(properDivisors(7))"
   ]
  },
  {
   "cell_type": "code",
   "execution_count": 98,
   "id": "b62d8ecf-ad30-4619-b46f-6cb888b42baa",
   "metadata": {},
   "outputs": [
    {
     "name": "stdout",
     "output_type": "stream",
     "text": [
      "False\n",
      "True\n"
     ]
    }
   ],
   "source": [
    "# 116\n",
    "def isPerfectNumber(n):\n",
    "    divisors = properDivisors(n)\n",
    "    \n",
    "    sum = 0\n",
    "    for nb in divisors:\n",
    "        sum += nb\n",
    "\n",
    "    return n == sum;\n",
    "\n",
    "print(isPerfectNumber(29))\n",
    "print(isPerfectNumber(28))"
   ]
  },
  {
   "cell_type": "code",
   "execution_count": 132,
   "id": "9f79eaab-ae76-424a-8d13-a8a129077782",
   "metadata": {},
   "outputs": [],
   "source": [
    "# 117\n",
    "def words(text):\n",
    "    text = text.replace(\":\", \"\")\n",
    "    text = text.replace(\";\", \"\")\n",
    "    text = text.replace(\",\", \"\")\n",
    "    text = text.replace(\".\", \"\")\n",
    "    text = text.replace(\"!\", \"\")\n",
    "    text = text.replace(\"?\", \"\")\n",
    "    text = text.replace(\"\\\"\", \"\")\n",
    "\n",
    "    words = text.split(\" \")\n",
    "    return words"
   ]
  },
  {
   "cell_type": "code",
   "execution_count": 134,
   "id": "0c23b045-86da-49e8-ba69-73cb31c17ed8",
   "metadata": {},
   "outputs": [
    {
     "name": "stdin",
     "output_type": "stream",
     "text": [
      "Nombre : 0\n",
      "Nombre : 4\n",
      "Nombre : 2\n",
      "Nombre : 0\n",
      "Nombre : 4\n",
      "Nombre : 2\n",
      "Nombre : \n"
     ]
    },
    {
     "name": "stdout",
     "output_type": "stream",
     "text": [
      "Moyenne : 2.0\n",
      "Valeurs < à la moyenne:\n",
      "[0, 0]\n",
      "Valeurs > à la moyenne:\n",
      "[4, 4]\n",
      "Valeurs == à la moyenne:\n",
      "[2, 2]\n"
     ]
    }
   ],
   "source": [
    "# 119\n",
    "numbers = []\n",
    "number = input(\"Nombre :\")\n",
    "avg = 0\n",
    "\n",
    "while number != \"\":\n",
    "    number = int(number)\n",
    "    numbers.append(number)\n",
    "    avg += number\n",
    "    number = input(\"Nombre :\")\n",
    "\n",
    "avg /= len(numbers)\n",
    "\n",
    "below = []\n",
    "average = []\n",
    "above = []\n",
    "\n",
    "for number in numbers:\n",
    "    if number < avg:\n",
    "        below.append(number)\n",
    "    elif number > avg:\n",
    "        above.append(number)\n",
    "    else:\n",
    "        average.append(number)\n",
    "\n",
    "print(\"Moyenne :\", avg)\n",
    "\n",
    "if len(below) > 0:\n",
    "    print(\"Valeurs < à la moyenne:\")\n",
    "    print(below)\n",
    "\n",
    "if len(above) > 0:\n",
    "    print(\"Valeurs > à la moyenne:\")\n",
    "    print(above)\n",
    "\n",
    "if len(average) > 0:\n",
    "    print(\"Valeurs == à la moyenne:\")\n",
    "    print(average)"
   ]
  },
  {
   "cell_type": "code",
   "execution_count": 293,
   "id": "cd7e3e92-21d4-4ba1-a24d-89ff60f95fb5",
   "metadata": {},
   "outputs": [
    {
     "name": "stdout",
     "output_type": "stream",
     "text": [
      "[2, 9, 10, 17, 30, 44]\n"
     ]
    }
   ],
   "source": [
    "# 121\n",
    "def randomLotoNumbers():\n",
    "    from random import randint\n",
    "    \n",
    "    numbers = []\n",
    "    \n",
    "    for i in range(0, 6):\n",
    "        go = True;\n",
    "        while go:\n",
    "            random = randint(1, 49)\n",
    "            try:\n",
    "                numbers.index(random)\n",
    "            except:\n",
    "                numbers.append(random)\n",
    "                go = False;\n",
    "    \n",
    "    numbers.sort()\n",
    "    return numbers\n",
    "\n",
    "print(randomLotoNumbers())"
   ]
  },
  {
   "cell_type": "code",
   "execution_count": 303,
   "id": "6cac9042-2758-44b3-8272-002619f31e80",
   "metadata": {},
   "outputs": [
    {
     "name": "stdin",
     "output_type": "stream",
     "text": [
      "X : 1\n",
      "Y : 1\n",
      "X : 2\n",
      "Y : 2.1\n",
      "X : 3\n",
      "Y : 2.9\n",
      "X : \n"
     ]
    },
    {
     "name": "stdout",
     "output_type": "stream",
     "text": [
      "y = 0.95x + 0.10\n"
     ]
    }
   ],
   "source": [
    "# 124\n",
    "\n",
    "x = input(\"X :\")\n",
    "y = input(\"Y :\")\n",
    "\n",
    "n = 0\n",
    "s_xx = 0\n",
    "s_xy = 0\n",
    "s_x = 0\n",
    "s_y = 0\n",
    "\n",
    "points = []\n",
    "\n",
    "while True:\n",
    "    x = float(x)\n",
    "    y = float(y)\n",
    "\n",
    "    s_xx += x*x\n",
    "    s_xy += x*y\n",
    "    s_x += x\n",
    "    s_y += y\n",
    "    n += 1\n",
    "    \n",
    "    x = input(\"X :\")\n",
    "    if x == \"\":\n",
    "        break\n",
    "    \n",
    "    y = input(\"Y :\")\n",
    "    if y == \"\":\n",
    "        break\n",
    "\n",
    "m = (s_xy - ((s_x * s_y) / n))/(s_xx - ((s_x * s_x) / n))\n",
    "b = (s_y / n) - (m * (s_x / n))\n",
    "\n",
    "print(\"y = %.2fx + %.2f\" % (m, b))\n"
   ]
  },
  {
   "cell_type": "code",
   "execution_count": 465,
   "id": "8d99351d-3a8a-438a-8e5e-053afb28c9d0",
   "metadata": {},
   "outputs": [
    {
     "name": "stdout",
     "output_type": "stream",
     "text": [
      "['2s', '3s', '4s', '5s', '6s', '7s', '8s', '9s', '10s', 'Js', 'Qs', 'Ks', 'As', '2c', '3c', '4c', '5c', '6c', '7c', '8c', '9c', '10c', 'Jc', 'Qc', 'Kc', 'Ac', '2d', '3d', '4d', '5d', '6d', '7d', '8d', '9d', '10d', 'Jd', 'Qd', 'Kd', 'Ad', '2h', '3h', '4h', '5h', '6h', '7h', '8h', '9h', '10h', 'Jh', 'Qh', 'Kh', 'Ah']\n",
      "\n",
      "['9c', '5h', 'Ah', '5c', '4d', '5s', '4c', 'Qh', 'Jc', '8d', 'Kd', '6d', 'As', 'Jh', '5d', '10c', 'Js', '3c', '2c', 'Qd', '4h', '3d', '2d', '9d', '6c', '10d', 'Qs', '9h', 'Kc', '9s', '4s', '8s', '6h', 'Ks', 'Ac', '7s', 'Jd', '7c', '7h', '10h', 'Ad', '7d', '8c', '10s', '6s', 'Qc', '2h', '8h', 'Kh', '3s', '3h', '2s']\n"
     ]
    }
   ],
   "source": [
    "# 125\n",
    "\n",
    "def createDeck():\n",
    "    values = [\"2\", \"3\", \"4\", \"5\", \"6\", \"7\", \"8\", \"9\", \"10\", \"J\", \"Q\", \"K\", \"A\"]\n",
    "    colors = [\"s\", \"c\", \"d\", \"h\"]\n",
    "    deck = []\n",
    "\n",
    "    for color in colors:\n",
    "        for value in values:\n",
    "            deck.append(value + color)\n",
    "\n",
    "    return deck\n",
    "\n",
    "def shuffle(deck):\n",
    "    from random import randint\n",
    "    \n",
    "    l = len(deck)\n",
    "\n",
    "    for i in range(0, l):\n",
    "        random = randint(i, l-1)\n",
    "        \n",
    "        temp = deck[random]\n",
    "        deck[random] = deck[i]\n",
    "        deck[i] = temp\n",
    "\n",
    "deck = createDeck()\n",
    "print(deck)\n",
    "print()\n",
    "shuffle(deck)\n",
    "print(deck)"
   ]
  },
  {
   "cell_type": "code",
   "execution_count": 475,
   "id": "63dcfec3-1695-48b8-9625-63966f41d0d7",
   "metadata": {},
   "outputs": [
    {
     "name": "stdout",
     "output_type": "stream",
     "text": [
      "[['2d', 'Ks', '7h', '10d'], ['6s', '5c', '3h', 'Jd'], ['Qc', 'Kh', '4h', 'Kd'], ['9c', '9h', 'As', '5h']]\n"
     ]
    }
   ],
   "source": [
    "# 126\n",
    "def deal(hand_nb, card_nb, deck):\n",
    "    from random import randint\n",
    "    \n",
    "    hands = []\n",
    "    for i in range(0, hand_nb):\n",
    "        hands.append([])\n",
    "    \n",
    "    for card in range(0, card_nb):\n",
    "        for i in range(0, hand_nb):\n",
    "            random = randint(0, len(deck) - 1)\n",
    "            hands[i].append(deck[random])\n",
    "            deck.pop(random)\n",
    "\n",
    "    return hands\n",
    "\n",
    "deck = createDeck()\n",
    "shuffle(deck)\n",
    "hands = deal(4, 4, deck)\n",
    "print(hands)"
   ]
  },
  {
   "cell_type": "code",
   "execution_count": 487,
   "id": "a38b2e65-cbda-4ba3-b3c4-160cd40909df",
   "metadata": {},
   "outputs": [
    {
     "name": "stdout",
     "output_type": "stream",
     "text": [
      "True\n",
      "True\n",
      "False\n"
     ]
    }
   ],
   "source": [
    "# 127\n",
    "def isSorted(list):\n",
    "    l = len(list)\n",
    "    \n",
    "    if l == 0 or l == 1:\n",
    "        return True\n",
    "\n",
    "    l -= 1\n",
    "    for i in range(0, l):\n",
    "        if list[i] > list[i+1]:\n",
    "            return False\n",
    "\n",
    "    return True\n",
    "\n",
    "print(isSorted([1, 2, 3, 4, 5, 6]))\n",
    "print(isSorted([1, 1, 2, 2, 3, 3]))\n",
    "print(isSorted([1, 5, 4, 7, 2, 8]))"
   ]
  },
  {
   "cell_type": "code",
   "execution_count": 491,
   "id": "3e76e212-30ca-4737-8c50-3d49ceea8cff",
   "metadata": {},
   "outputs": [
    {
     "data": {
      "text/plain": [
       "2"
      ]
     },
     "execution_count": 491,
     "metadata": {},
     "output_type": "execute_result"
    }
   ],
   "source": [
    "# 128\n",
    "def countRange(list, min, max):\n",
    "    n = 0;\n",
    "\n",
    "    for number in list:\n",
    "        if (number >= min) and (number < max):\n",
    "            n += 1\n",
    "\n",
    "    return n\n",
    "\n",
    "countRange([1, 2, 3, 4, 5, 6, 7, 8, 9], 2, 4)"
   ]
  },
  {
   "cell_type": "code",
   "execution_count": null,
   "id": "c78c7c30-2356-48c2-80d4-a54b4a69db18",
   "metadata": {},
   "outputs": [],
   "source": []
  }
 ],
 "metadata": {
  "kernelspec": {
   "display_name": "Python 3 (ipykernel)",
   "language": "python",
   "name": "python3"
  },
  "language_info": {
   "codemirror_mode": {
    "name": "ipython",
    "version": 3
   },
   "file_extension": ".py",
   "mimetype": "text/x-python",
   "name": "python",
   "nbconvert_exporter": "python",
   "pygments_lexer": "ipython3",
   "version": "3.12.4"
  }
 },
 "nbformat": 4,
 "nbformat_minor": 5
}
