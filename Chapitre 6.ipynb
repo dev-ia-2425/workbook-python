{
 "cells": [
  {
   "cell_type": "code",
   "execution_count": 3,
   "id": "005a37cc-6ec6-4c49-a827-ad308e834b80",
   "metadata": {},
   "outputs": [
    {
     "name": "stdout",
     "output_type": "stream",
     "text": [
      "['c']\n"
     ]
    }
   ],
   "source": [
    "# 136\n",
    "\n",
    "def reverseLookup(dict, value):\n",
    "    keys = []\n",
    "\n",
    "    for key in dict.keys():\n",
    "        if dict[key] == value:\n",
    "            keys.append(key)\n",
    "\n",
    "    return keys\n",
    "\n",
    "dict = {\n",
    "    \"a\": 1,\n",
    "    \"b\": 2,\n",
    "    \"c\": 3,\n",
    "    \"d\": 4,\n",
    "    \"e\": 5\n",
    "}\n",
    "\n",
    "print(reverseLookup(dict, 3))"
   ]
  },
  {
   "cell_type": "code",
   "execution_count": 123,
   "id": "ea504aa9-4403-43dc-b39d-28465b649e3f",
   "metadata": {},
   "outputs": [
    {
     "name": "stdout",
     "output_type": "stream",
     "text": [
      "Total \tSimulated \tExpected\n",
      "\tPercent \tPercent\n",
      "2 \t5.5 \t\t2.78\n",
      "3 \t8.0 \t\t5.56\n",
      "4 \t11.0 \t\t8.33\n",
      "5 \t13.1 \t\t11.11\n",
      "6 \t16.9 \t\t13.89\n",
      "7 \t13.5 \t\t16.67\n",
      "8 \t11.2 \t\t13.89\n",
      "9 \t9.7 \t\t11.11\n",
      "10 \t6.0 \t\t8.33\n",
      "11 \t2.6 \t\t5.56\n",
      "12 \t2.5 \t\t2.78\n"
     ]
    }
   ],
   "source": [
    "# 137\n",
    "def twoDiceSum():\n",
    "    from random import randint\n",
    "    return randint(1, 6) + randint(1, 6)\n",
    "\n",
    "simulated = [0, 0, 0, 0, 0, 0, 0, 0, 0, 0, 0]\n",
    "expected = [2.78, 5.56, 8.33, 11.11, 13.89, 16.67, 13.89, 11.11, 8.33, 5.56, 2.78]\n",
    "\n",
    "for i in range(0, 1000):\n",
    "    simulated[twoDiceSum()-3] += 1\n",
    "\n",
    "print(\"Total \\tSimulated \\tExpected\")\n",
    "print(\"\\tPercent \\tPercent\")\n",
    "\n",
    "for i in range(0, 11):\n",
    "    print(f\"{i+2} \\t{simulated[i]/10} \\t\\t{expected[i]}\")"
   ]
  },
  {
   "cell_type": "code",
   "execution_count": 130,
   "id": "63bd5937-9a2e-4ec4-91f2-c1cbd9db6084",
   "metadata": {},
   "outputs": [
    {
     "name": "stdout",
     "output_type": "stream",
     "text": [
      "7\n",
      "14\n"
     ]
    }
   ],
   "source": [
    "# 145\n",
    "\n",
    "scores = {\n",
    "    1: [\"A\", \"E\", \"I\", \"L\", \"N\", \"O\", \"R\", \"S\", \"T\", \"U\"],\n",
    "    2: [\"D\", \"G\"],\n",
    "    3: [\"B\", \"C\", \"M\", \"P\"],\n",
    "    4: [\"F\", \"H\", \"V\", \"W\", \"Y\"],\n",
    "    5: [\"K\"],\n",
    "    8: [\"J\", \"X\"],\n",
    "    10: [\"Q\", \"Z\"]\n",
    "}\n",
    "\n",
    "def scrabbleScore(word):\n",
    "    score = 0\n",
    "\n",
    "    word = word.upper()\n",
    "    \n",
    "    for letter in word:\n",
    "        for key, value in scores.items():\n",
    "            if letter in value:\n",
    "                score += key\n",
    "\n",
    "    return score\n",
    "\n",
    "print(scrabbleScore(\"code\"))\n",
    "print(scrabbleScore(\"python\"))"
   ]
  }
 ],
 "metadata": {
  "kernelspec": {
   "display_name": "Python 3 (ipykernel)",
   "language": "python",
   "name": "python3"
  },
  "language_info": {
   "codemirror_mode": {
    "name": "ipython",
    "version": 3
   },
   "file_extension": ".py",
   "mimetype": "text/x-python",
   "name": "python",
   "nbconvert_exporter": "python",
   "pygments_lexer": "ipython3",
   "version": "3.12.4"
  }
 },
 "nbformat": 4,
 "nbformat_minor": 5
}
