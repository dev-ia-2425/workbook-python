{
 "cells": [
  {
   "cell_type": "code",
   "execution_count": 3,
   "id": "e539faa6-6963-4caf-8b37-6bdfe6a03afd",
   "metadata": {},
   "outputs": [
    {
     "name": "stdin",
     "output_type": "stream",
     "text": [
      "Nombre : 1254863\n"
     ]
    },
    {
     "name": "stdout",
     "output_type": "stream",
     "text": [
      "Le nombre est impair\n"
     ]
    }
   ],
   "source": [
    "# 35\n",
    "n = int(input(\"Nombre :\"))\n",
    "\n",
    "if n % 2 == 0:\n",
    "    print(\"Le nombre est pair\")\n",
    "else:\n",
    "    print(\"Le nombre est impair\")"
   ]
  },
  {
   "cell_type": "code",
   "execution_count": 11,
   "id": "7466a357-1baf-4514-aff3-7acac79ad97b",
   "metadata": {},
   "outputs": [
    {
     "name": "stdin",
     "output_type": "stream",
     "text": [
      "Âge du chien 7\n"
     ]
    },
    {
     "name": "stdout",
     "output_type": "stream",
     "text": [
      "Le chien a 41 ans\n"
     ]
    }
   ],
   "source": [
    "# 36\n",
    "dog_years = int(input(\"Âge du chien\"))\n",
    "\n",
    "if dog_years == 0:\n",
    "    human_years = 0\n",
    "elif dog_years == 1:\n",
    "    human_years = 10.5\n",
    "elif dog_years == 2:\n",
    "    human_years = 21\n",
    "else:\n",
    "    human_years = 21\n",
    "    dog_years -= 2\n",
    "    human_years += dog_years * 4\n",
    "\n",
    "print(\"Le chien a %u ans\" % human_years)"
   ]
  },
  {
   "cell_type": "code",
   "execution_count": 17,
   "id": "258f1613-e546-45b9-8472-5de28975fbf2",
   "metadata": {},
   "outputs": [
    {
     "name": "stdin",
     "output_type": "stream",
     "text": [
      "Lettre : e\n"
     ]
    },
    {
     "name": "stdout",
     "output_type": "stream",
     "text": [
      "Voyelle\n"
     ]
    }
   ],
   "source": [
    "# 37\n",
    "letter = input(\"Lettre :\")\n",
    "\n",
    "vowels = \"aeiouy\"\n",
    "\n",
    "if letter in vowels:\n",
    "    print(\"Voyelle\")\n",
    "else:\n",
    "    print(\"Consonne\")\n"
   ]
  },
  {
   "cell_type": "code",
   "execution_count": 23,
   "id": "88ab7e6e-287f-40b9-ab4a-03e68b3a461c",
   "metadata": {},
   "outputs": [
    {
     "name": "stdin",
     "output_type": "stream",
     "text": [
      "Nombre de côtés : 9\n"
     ]
    },
    {
     "name": "stdout",
     "output_type": "stream",
     "text": [
      "Ennéagone\n"
     ]
    }
   ],
   "source": [
    "# 38\n",
    "\n",
    "sides = int(input(\"Nombre de côtés :\"))\n",
    "\n",
    "if sides == 3:\n",
    "    print(\"Triangle\")\n",
    "elif sides == 4:\n",
    "    print(\"Quadrilatère\")\n",
    "elif sides == 5:\n",
    "    print(\"Pentagone\")\n",
    "elif sides == 6:\n",
    "    print(\"Hexagone\")\n",
    "elif sides == 7:\n",
    "    print(\"Heptagone\")\n",
    "elif sides == 8:\n",
    "    print(\"Octogone\")\n",
    "elif sides == 9:\n",
    "    print(\"Ennéagone\")\n",
    "elif sides == 10:\n",
    "    print(\"Décagone\")\n",
    "else:\n",
    "    print(\"Erreur\")"
   ]
  },
  {
   "cell_type": "code",
   "execution_count": 31,
   "id": "14520b49-2b36-4d59-9f00-37b5c1b3ea07",
   "metadata": {},
   "outputs": [
    {
     "name": "stdin",
     "output_type": "stream",
     "text": [
      "Mois : aout\n"
     ]
    },
    {
     "name": "stdout",
     "output_type": "stream",
     "text": [
      "31\n"
     ]
    }
   ],
   "source": [
    "# 39\n",
    "month = input(\"Mois :\").lower()\n",
    "\n",
    "if month == \"janvier\":\n",
    "    print(\"31\")\n",
    "elif month == \"fevrier\":\n",
    "    print(\"28 ou 29\")\n",
    "elif month == \"mars\":\n",
    "    print(\"31\")\n",
    "elif month == \"avril\":\n",
    "    print(\"30\")\n",
    "elif month == \"mai\":\n",
    "    print(\"31\")\n",
    "elif month == \"juin\":\n",
    "    print(\"30\")\n",
    "elif month == \"juillet\":\n",
    "    print(\"31\")\n",
    "elif month == \"aout\":\n",
    "    print(\"31\")\n",
    "elif month == \"septembre\":\n",
    "    print(\"30\")\n",
    "elif month == \"octobre\":\n",
    "    print(\"31\")\n",
    "elif month == \"novembre\":\n",
    "    print(\"30\")\n",
    "elif month == \"decembre\":\n",
    "    print(\"31\")"
   ]
  },
  {
   "cell_type": "code",
   "execution_count": 33,
   "id": "ca3f2972-e30c-4068-8db0-50f8a28d107e",
   "metadata": {},
   "outputs": [
    {
     "name": "stdin",
     "output_type": "stream",
     "text": [
      "Niveau sonore (en dB) : 74\n"
     ]
    },
    {
     "name": "stdout",
     "output_type": "stream",
     "text": [
      "Reveil-matin\n"
     ]
    }
   ],
   "source": [
    "# 40\n",
    "sound_lvl = int(input(\"Niveau sonore (en dB) :\"))\n",
    "\n",
    "if sound_lvl >= 130:\n",
    "    print(\"Marteau piqueur\")\n",
    "elif sound_lvl >= 106:\n",
    "    print(\"Tondeuse à gazon\")\n",
    "elif sound_lvl >= 70:\n",
    "    print(\"Reveil-matin\")\n",
    "else:\n",
    "    print(\"Pièce silencieuse\")\n"
   ]
  },
  {
   "cell_type": "code",
   "execution_count": 53,
   "id": "3de920a9-1525-41a7-8562-c01fb85754eb",
   "metadata": {},
   "outputs": [
    {
     "name": "stdin",
     "output_type": "stream",
     "text": [
      "Longueur du côté n°1 : 1\n",
      "Longueur du côté n°2 : 5\n",
      "Longueur du côté n°3 : 1\n"
     ]
    },
    {
     "name": "stdout",
     "output_type": "stream",
     "text": [
      "Triangle isocèle\n"
     ]
    }
   ],
   "source": [
    "# 41\n",
    "s1 = float(input(\"Longueur du côté n°1 :\"))\n",
    "s2 = float(input(\"Longueur du côté n°2 :\"))\n",
    "s3 = float(input(\"Longueur du côté n°3 :\"))\n",
    "\n",
    "n = 0\n",
    "\n",
    "if s1 == s2:\n",
    "    n += 1\n",
    "\n",
    "if s2 == s3:\n",
    "    n += 1\n",
    "\n",
    "if s3 == s1:\n",
    "    n += 1\n",
    "\n",
    "if n == 0:\n",
    "    print(\"Triangle quelconque\")\n",
    "elif n == 1:\n",
    "    print(\"Triangle isocèle\")\n",
    "else:\n",
    "    print(\"Triangle equilatéral\")"
   ]
  },
  {
   "cell_type": "code",
   "execution_count": 99,
   "id": "70318b03-3d34-4b0d-a5a1-dadcd7abdd0e",
   "metadata": {},
   "outputs": [
    {
     "name": "stdin",
     "output_type": "stream",
     "text": [
      "Case d'échiquier : h8\n"
     ]
    },
    {
     "name": "stdout",
     "output_type": "stream",
     "text": [
      "La case est noire\n"
     ]
    }
   ],
   "source": [
    "# 46\n",
    "case = input(\"Case d'échiquier :\")\n",
    "\n",
    "letter = case[0]\n",
    "number = int(case[1])\n",
    "\n",
    "letters = \"abcdefgh\"\n",
    "letter = letters.find(letter)\n",
    "\n",
    "if (letter + number) % 2 == 1:\n",
    "    print(\"La case est noire\")\n",
    "else:\n",
    "    print(\"La case est blanche\")\n"
   ]
  },
  {
   "cell_type": "code",
   "execution_count": 73,
   "id": "6946132c-b039-44e1-8173-8c717dd14dbe",
   "metadata": {},
   "outputs": [
    {
     "name": "stdin",
     "output_type": "stream",
     "text": [
      "a : 1\n",
      "b : 1\n",
      "c : 0\n"
     ]
    },
    {
     "name": "stdout",
     "output_type": "stream",
     "text": [
      "f(x) = 1.00x² + 1.00x + 0.00 \n",
      "\n",
      "f(x) a deux racines\n",
      "y1 = 0.00\n",
      "y2 = -1.00\n"
     ]
    }
   ],
   "source": [
    "# 51\n",
    "import math\n",
    "\n",
    "a = float(input(\"a :\"))\n",
    "\n",
    "if a == 0:\n",
    "    print(\"Erreur : a est nul\")\n",
    "    exit;\n",
    "\n",
    "b = float(input(\"b :\"))\n",
    "c = float(input(\"c :\"))\n",
    "\n",
    "print(\"f(x) = %.2fx² + %.2fx + %.2f \\n\" % (a, b, c))\n",
    "\n",
    "delta = (b**2) - (4 * a * c)\n",
    "\n",
    "\n",
    "if delta < 0:\n",
    "    print(\"f(x) n'a pas de racines\")\n",
    "elif delta == 0:\n",
    "    y = (-b)/(2 * a)\n",
    "    print(\"f(x) a une seule racine\")\n",
    "    print(\"y = %.2f\" % y)\n",
    "else:\n",
    "    y1 = (-b + math.sqrt(delta)) / (2 * a)\n",
    "    y2 = (-b - math.sqrt(delta)) / (2 * a)\n",
    "    print(\"f(x) a deux racines\")\n",
    "    print(\"y1 = %.2f\" % y1)\n",
    "    print(\"y2 = %.2f\" % y2)\n"
   ]
  },
  {
   "cell_type": "code",
   "execution_count": 75,
   "id": "31781c5e-0214-46f3-9be0-8214cac2a0c5",
   "metadata": {},
   "outputs": [
    {
     "name": "stdin",
     "output_type": "stream",
     "text": [
      "Année : 2024\n"
     ]
    },
    {
     "name": "stdout",
     "output_type": "stream",
     "text": [
      "L'année est bissextile\n"
     ]
    }
   ],
   "source": [
    "# 58\n",
    "year = int(input(\"Année :\"))\n",
    "\n",
    "if year % 400 == 0:\n",
    "    print(\"L'année est bissextile\")\n",
    "elif year % 100 == 0:\n",
    "    print(\"L'année n'est pas bissextile\")\n",
    "elif year % 4 == 0:\n",
    "    print(\"L'année est bissextile\")\n",
    "else:\n",
    "    print(\"L'année n'est pas bissextile\")"
   ]
  }
 ],
 "metadata": {
  "kernelspec": {
   "display_name": "Python 3 (ipykernel)",
   "language": "python",
   "name": "python3"
  },
  "language_info": {
   "codemirror_mode": {
    "name": "ipython",
    "version": 3
   },
   "file_extension": ".py",
   "mimetype": "text/x-python",
   "name": "python",
   "nbconvert_exporter": "python",
   "pygments_lexer": "ipython3",
   "version": "3.12.4"
  }
 },
 "nbformat": 4,
 "nbformat_minor": 5
}
