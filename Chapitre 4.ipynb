{
 "cells": [
  {
   "cell_type": "code",
   "execution_count": 7,
   "id": "96c301bc-65d7-45c8-babf-91e13fe4400b",
   "metadata": {},
   "outputs": [
    {
     "data": {
      "text/plain": [
       "1.4142135623730951"
      ]
     },
     "execution_count": 7,
     "metadata": {},
     "output_type": "execute_result"
    }
   ],
   "source": [
    "# 85\n",
    "def pythagorean_theorem(a, b):\n",
    "    from math import sqrt\n",
    "\n",
    "    return sqrt(a*a + b*b)\n",
    "\n",
    "pythagorean_theorem(1, 1)"
   ]
  },
  {
   "cell_type": "code",
   "execution_count": 17,
   "id": "935f81b9-5ae6-4142-b885-142c689b9634",
   "metadata": {},
   "outputs": [
    {
     "data": {
      "text/plain": [
       "5.75"
      ]
     },
     "execution_count": 17,
     "metadata": {},
     "output_type": "execute_result"
    }
   ],
   "source": [
    "# 86\n",
    "def taxi_fare(distance):\n",
    "    base_fare = 4\n",
    "    extra_fare = 0.25\n",
    "    extra_distance = 0.14\n",
    "    \n",
    "    fare = distance * base_fare\n",
    "    fare += (distance // extra_distance) * extra_fare\n",
    "\n",
    "    return fare\n",
    "\n",
    "taxi_fare(1)"
   ]
  },
  {
   "cell_type": "code",
   "execution_count": 29,
   "id": "3b244f74-4664-4839-b75e-5a3fa8329de8",
   "metadata": {},
   "outputs": [
    {
     "data": {
      "text/plain": [
       "13.9"
      ]
     },
     "execution_count": 29,
     "metadata": {},
     "output_type": "execute_result"
    }
   ],
   "source": [
    "# 87\n",
    "def shipping_calculator(item_nb):   \n",
    "    first_rate = 10.95\n",
    "    base_rate = 2.95\n",
    "    \n",
    "    if item_nb == 1:\n",
    "        return first_rate\n",
    "    else:\n",
    "        item_nb -= 1\n",
    "        return round(first_rate + (item_nb * base_rate), 2)\n",
    "\n",
    "shipping_calculator(2)"
   ]
  },
  {
   "cell_type": "code",
   "execution_count": 85,
   "id": "8a15bdab-749e-4474-81c9-1d10fab1b940",
   "metadata": {},
   "outputs": [
    {
     "name": "stdout",
     "output_type": "stream",
     "text": [
      "2\n",
      "2\n",
      "2\n",
      "2\n",
      "2\n",
      "2\n"
     ]
    }
   ],
   "source": [
    "# 88\n",
    "def median(a, b, c):\n",
    "    if a < b:\n",
    "        if b < c:\n",
    "            return b\n",
    "        else:\n",
    "            if a < c:\n",
    "                return c\n",
    "            else:\n",
    "                return a\n",
    "    else:\n",
    "        if b > c:\n",
    "            return b\n",
    "        else:\n",
    "            if a > c:\n",
    "                return c\n",
    "            else:\n",
    "                return a\n",
    "\n",
    "print(median(1, 2, 3))\n",
    "print(median(1, 3, 2))\n",
    "print(median(2, 1, 3))\n",
    "print(median(2, 3, 1))\n",
    "print(median(3, 1, 2))\n",
    "print(median(3, 2, 1))"
   ]
  },
  {
   "cell_type": "code",
   "execution_count": 87,
   "id": "75966ef5-e611-4c8c-9e91-b1a622a28799",
   "metadata": {},
   "outputs": [
    {
     "name": "stdout",
     "output_type": "stream",
     "text": [
      "                                                     Hello world !\n",
      "                                                    Comment ça va ?\n"
     ]
    }
   ],
   "source": [
    "# 93\n",
    "def centering(s, w):\n",
    "    l = len(s)\n",
    "    if l >= w:\n",
    "        return s\n",
    "\n",
    "    white_nb = w // 2 + l // 2\n",
    "    return s.rjust(white_nb, \" \")\n",
    "\n",
    "print(centering(\"Hello world !\", 121))\n",
    "print(centering(\"Comment ça va ?\", 121))"
   ]
  },
  {
   "cell_type": "code",
   "execution_count": 105,
   "id": "92c7d32d-2f03-4d96-8ab5-986576187ee2",
   "metadata": {},
   "outputs": [
    {
     "name": "stdout",
     "output_type": "stream",
     "text": [
      "True\n",
      "True\n",
      "True\n",
      "False\n"
     ]
    }
   ],
   "source": [
    "# 94\n",
    "def isTriangleValid(a, b, c):\n",
    "    return (a + b >= c) and (a + c >= b) and (b + c >= a)\n",
    "\n",
    "print(isTriangleValid(1, 1, 2))\n",
    "print(isTriangleValid(1, 2, 1))\n",
    "print(isTriangleValid(1, 1, 2))\n",
    "print(isTriangleValid(1, 2, 0))"
   ]
  },
  {
   "cell_type": "code",
   "execution_count": 121,
   "id": "ab8fc62d-8c69-4d0e-af89-a87e30eb6596",
   "metadata": {},
   "outputs": [
    {
     "name": "stdout",
     "output_type": "stream",
     "text": [
      "2 3 5 7 11 13 17 19 23 29 31 37 41 43 47 53 59 61 67 71 73 79 83 89 97 \n"
     ]
    }
   ],
   "source": [
    "# 98\n",
    "def isPrime(n):\n",
    "    from math import sqrt\n",
    "    \n",
    "    if n == 1:\n",
    "        return False\n",
    "    \n",
    "    end = int(sqrt(n) + 1)\n",
    "\n",
    "    for i in range(2, end):\n",
    "        if n % i == 0:\n",
    "            return False\n",
    "\n",
    "    return True\n",
    "\n",
    "\n",
    "for i in range(1, 101):\n",
    "    if isPrime(i):\n",
    "        print(i, \"\", end=\"\")\n",
    "print()"
   ]
  },
  {
   "cell_type": "code",
   "execution_count": 133,
   "id": "9dbc6c0b-00c2-4083-b91e-446b04eff36d",
   "metadata": {},
   "outputs": [
    {
     "name": "stdout",
     "output_type": "stream",
     "text": [
      "97\n",
      "101\n"
     ]
    }
   ],
   "source": [
    "# 99\n",
    "def nextPrime(n):\n",
    "    i = n + 1\n",
    "    \n",
    "    while True:\n",
    "        if isPrime(i):\n",
    "            return i\n",
    "        \n",
    "        i += 1\n",
    "\n",
    "print(nextPrime(89))\n",
    "print(nextPrime(nextPrime(89)))"
   ]
  },
  {
   "cell_type": "code",
   "execution_count": 58,
   "id": "6ad1ed17-307e-43a9-bb2b-da6eb7ece270",
   "metadata": {},
   "outputs": [
    {
     "name": "stdout",
     "output_type": "stream",
     "text": [
      "*,Jql1T\n"
     ]
    }
   ],
   "source": [
    "# 100\n",
    "def randomPassword():\n",
    "    from random import randint\n",
    "    l = randint(7, 10)\n",
    "    s = \"\"\n",
    "\n",
    "    for i in range(0, l):\n",
    "        s += chr(randint(33, 126))\n",
    "\n",
    "    return s\n",
    "\n",
    "print(randomPassword())"
   ]
  },
  {
   "cell_type": "code",
   "execution_count": 62,
   "id": "b22e3071-79b2-4c74-bd9e-196b6d5837df",
   "metadata": {},
   "outputs": [],
   "source": [
    "# 102\n",
    "def isPasswordGood(password):\n",
    "    from re import search\n",
    "\n",
    "    if len(password) < 8:\n",
    "        return False\n",
    "    \n",
    "    if search(\"[A-Z]\", password) == None:\n",
    "        return False\n",
    "\n",
    "    if search(\"[a-z]\", password) == None:\n",
    "        return False\n",
    "\n",
    "    if search(\"[0-9]\", password) == None:\n",
    "        return False\n",
    "\n",
    "    return True"
   ]
  },
  {
   "cell_type": "code",
   "execution_count": 64,
   "id": "800bcc3d-b17d-46df-afc6-201a3164f256",
   "metadata": {},
   "outputs": [
    {
     "name": "stdout",
     "output_type": "stream",
     "text": [
      "1 essai(s) !\n",
      "/gV~Qe,r.3\n"
     ]
    }
   ],
   "source": [
    "# 103\n",
    "def randomGoodPassword():\n",
    "    count = 1\n",
    "    while True:\n",
    "        password = randomPassword()\n",
    "        \n",
    "        if isPasswordGood(password):\n",
    "            print(\"%u essai(s) !\" % count)\n",
    "            return password\n",
    "\n",
    "        if count > 10:\n",
    "            break\n",
    "\n",
    "        count += 1\n",
    "\n",
    "print(randomGoodPassword())"
   ]
  },
  {
   "cell_type": "code",
   "execution_count": null,
   "id": "a29bdbe5-68e8-4ab3-bda6-ec115ac75f79",
   "metadata": {},
   "outputs": [],
   "source": []
  }
 ],
 "metadata": {
  "kernelspec": {
   "display_name": "Python 3 (ipykernel)",
   "language": "python",
   "name": "python3"
  },
  "language_info": {
   "codemirror_mode": {
    "name": "ipython",
    "version": 3
   },
   "file_extension": ".py",
   "mimetype": "text/x-python",
   "name": "python",
   "nbconvert_exporter": "python",
   "pygments_lexer": "ipython3",
   "version": "3.12.4"
  }
 },
 "nbformat": 4,
 "nbformat_minor": 5
}
