{
 "cells": [
  {
   "cell_type": "code",
   "execution_count": 3,
   "id": "418443e8-7bdc-4cfc-8532-860600853135",
   "metadata": {},
   "outputs": [
    {
     "name": "stdout",
     "output_type": "stream",
     "text": [
      "M. Nicolas MOUTOU\n",
      "4 Place St-Étienne\n",
      "67000 Strasbourg\n"
     ]
    }
   ],
   "source": [
    "# 1\n",
    "print(\"M. Nicolas MOUTOU\")\n",
    "print(\"4 Place St-Étienne\")\n",
    "print(\"67000 Strasbourg\")"
   ]
  },
  {
   "cell_type": "code",
   "execution_count": 7,
   "id": "6e9ba89a-5069-4b02-a9a0-4909711758b0",
   "metadata": {},
   "outputs": [
    {
     "name": "stdin",
     "output_type": "stream",
     "text": [
      "Votre nom :  Nicolas\n"
     ]
    },
    {
     "name": "stdout",
     "output_type": "stream",
     "text": [
      "Bonjour Nicolas !\n"
     ]
    }
   ],
   "source": [
    "# 2\n",
    "name = input(\"Votre nom :\")\n",
    "print(\"Bonjour\", name, \"!\")"
   ]
  },
  {
   "cell_type": "code",
   "execution_count": 17,
   "id": "49301531-82e4-459d-8bfe-f0cb2cdefdea",
   "metadata": {},
   "outputs": [
    {
     "name": "stdin",
     "output_type": "stream",
     "text": [
      "Longueur de la pièce (en mètres) :  12.1\n",
      "Largeur de la pièce (en mètres) :  21.3\n"
     ]
    },
    {
     "name": "stdout",
     "output_type": "stream",
     "text": [
      "Surface de la pièce : 257.73 m²\n"
     ]
    }
   ],
   "source": [
    "# 3\n",
    "length = input(\"Longueur de la pièce (en mètres) :\")\n",
    "width = input(\"Largeur de la pièce (en mètres) :\")\n",
    "area = float(length) * float(width)\n",
    "\n",
    "print(\"Surface de la pièce :\", str(area), \"m²\")"
   ]
  },
  {
   "cell_type": "code",
   "execution_count": 19,
   "id": "ee45f632-9b3e-46bc-9fea-1dc272370334",
   "metadata": {},
   "outputs": [
    {
     "name": "stdin",
     "output_type": "stream",
     "text": [
      "Surface du champ (en acres) : 1\n"
     ]
    },
    {
     "name": "stdout",
     "output_type": "stream",
     "text": [
      "Surface du champs (en pied carré) : 43560.0\n"
     ]
    }
   ],
   "source": [
    "# 4\n",
    "acres = input(\"Surface du champ (en acres) :\")\n",
    "square_feet = float(acres) * 43560\n",
    "\n",
    "print(\"Surface du champs (en pied carré) :\", square_feet)"
   ]
  },
  {
   "cell_type": "code",
   "execution_count": 97,
   "id": "2112d03a-749a-44cb-a084-f2dd9e82b1a2",
   "metadata": {},
   "outputs": [
    {
     "name": "stdin",
     "output_type": "stream",
     "text": [
      "Volumes des bouteilles : 1, 2, 1, 1, 2, 2\n"
     ]
    },
    {
     "name": "stdout",
     "output_type": "stream",
     "text": [
      "\n",
      "Vous rendez la consigne de 6 bouteilles. Voici votre reçu :\n",
      "1.00 L * 3 = $0.30\n",
      "2.00 L * 3 = $0.75\n",
      "Total : $1.05\n"
     ]
    }
   ],
   "source": [
    "# 5\n",
    "containers = input(\"Volumes des bouteilles :\")\n",
    "volumes = containers.replace(\" \", \"\").split(\",\")\n",
    "\n",
    "numbers = {}\n",
    "# prices = {}\n",
    "total = 0\n",
    "\n",
    "for volume in volumes:\n",
    "    number = numbers.get(volume)\n",
    "    \n",
    "    if number != None : \n",
    "        numbers[volume] += 1\n",
    "    else:\n",
    "        numbers[volume] = 1\n",
    "\n",
    "print()\n",
    "print(\"Vous rendez la consigne de \" + str(len(volumes)) + \" bouteilles. Voici votre reçu :\")\n",
    "\n",
    "for volume in numbers.keys():\n",
    "\n",
    "    if float(volume) <= 1:\n",
    "        price = numbers[volume] * 0.1\n",
    "    else:\n",
    "        price = numbers[volume] * 0.25\n",
    "\n",
    "    print(\"%.2f L * %u = $%.2f\" % (float(volume), int(numbers[volume]), price))\n",
    "    # prices[volume] = price\n",
    "    total += price\n",
    "\n",
    "print(\"Total : $%.2f\" % total)    "
   ]
  },
  {
   "cell_type": "code",
   "execution_count": 83,
   "id": "a35243e3-ee11-4d62-a734-3bba2f9535d9",
   "metadata": {},
   "outputs": [
    {
     "name": "stdin",
     "output_type": "stream",
     "text": [
      "Prix du repas : 10.25\n"
     ]
    },
    {
     "name": "stdout",
     "output_type": "stream",
     "text": [
      "TVA : 2.05 €\n",
      "Pourboire : 1.84 €\n",
      "Total : 14.15 €\n"
     ]
    }
   ],
   "source": [
    "# 6\n",
    "HT = float(input(\"Prix du repas :\"))\n",
    "\n",
    "tax = HT * 0.2\n",
    "tip = HT * 0.18\n",
    "\n",
    "TTC = HT + tax + tip\n",
    "\n",
    "print(\"TVA : %.2f €\" % tax)\n",
    "print(\"Pourboire : %.2f €\" % tip)\n",
    "print(\"Total : %.2f €\" % TTC)"
   ]
  },
  {
   "cell_type": "code",
   "execution_count": 91,
   "id": "80c0d076-c59b-4f83-95fa-2d2753916cf3",
   "metadata": {},
   "outputs": [
    {
     "name": "stdin",
     "output_type": "stream",
     "text": [
      "Nombre entier : 3\n"
     ]
    },
    {
     "name": "stdout",
     "output_type": "stream",
     "text": [
      "Somme des entiers de 1 à 3 : 6\n"
     ]
    }
   ],
   "source": [
    "# 7\n",
    "n = int(input(\"Nombre entier :\"))\n",
    "\n",
    "sum = ((n) * (n + 1))/2\n",
    "\n",
    "print(\"Somme des entiers de 1 à %u : %u\" % (n, sum))"
   ]
  },
  {
   "cell_type": "code",
   "execution_count": 105,
   "id": "bd32978f-071f-4411-b656-ec26409144b4",
   "metadata": {},
   "outputs": [
    {
     "name": "stdin",
     "output_type": "stream",
     "text": [
      "Nombre de trucs : 2\n",
      "Nombre de machins : 3\n"
     ]
    },
    {
     "name": "stdout",
     "output_type": "stream",
     "text": [
      "\n",
      "Le(s) 2 truc(s) pese(nt) 150 grammes\n",
      "Le(s) 3 machin(s) pese(nt) 225 grammes\n",
      "Le total pese 375 grammes\n"
     ]
    }
   ],
   "source": [
    "# 8\n",
    "widgets = int(input(\"Nombre de trucs :\"))\n",
    "gizmos = int(input(\"Nombre de machins :\"))\n",
    "\n",
    "weight_widgets = widgets * 75\n",
    "weight_gizmos = gizmos * 75\n",
    "weight_total = weight_gizmos + weight_widgets\n",
    "\n",
    "print()\n",
    "print(\"Le(s) %u truc(s) pese(nt) %u grammes\" % (widgets, weight_widgets))\n",
    "print(\"Le(s) %u machin(s) pese(nt) %u grammes\" % (gizmos, weight_gizmos))\n",
    "print(\"Le total pese %u grammes\" % (weight_total))"
   ]
  },
  {
   "cell_type": "code",
   "execution_count": 113,
   "id": "0846ec68-1620-4173-98f4-d6b27be15d10",
   "metadata": {},
   "outputs": [
    {
     "name": "stdin",
     "output_type": "stream",
     "text": [
      "Solde sur le compte : 1000\n"
     ]
    },
    {
     "name": "stdout",
     "output_type": "stream",
     "text": [
      "\n",
      "Solde (dans 1 an) : 1040.00 €\n",
      "Solde (dans 2 ans) : 1081.60 €\n",
      "Solde (dans 3 an) : 1124.86 €\n"
     ]
    }
   ],
   "source": [
    "# 9\n",
    "money = float(input(\"Solde sur le compte :\"))\n",
    "\n",
    "print()\n",
    "\n",
    "money *= 1.04\n",
    "print(\"Solde (dans 1 an) : %.2f €\" % money)\n",
    "money *= 1.04\n",
    "print(\"Solde (dans 2 ans) : %.2f €\" % money)\n",
    "money *= 1.04\n",
    "print(\"Solde (dans 3 an) : %.2f €\" % money)"
   ]
  },
  {
   "cell_type": "code",
   "execution_count": 131,
   "id": "5b32d587-7528-4ed2-8334-0addff0aa3cd",
   "metadata": {},
   "outputs": [
    {
     "name": "stdin",
     "output_type": "stream",
     "text": [
      "A : 2\n",
      "B : 3\n"
     ]
    },
    {
     "name": "stdout",
     "output_type": "stream",
     "text": [
      "a + b = 5\n",
      "a - b = -1\n",
      "a * b = 6\n",
      "a / b = 0\n",
      "a mod b = 2\n",
      "log10(a) = 0\n",
      "a^b = 8\n"
     ]
    }
   ],
   "source": [
    "# 10\n",
    "import math\n",
    "\n",
    "a = int(input(\"A :\"))\n",
    "b = int(input(\"B :\"))\n",
    "\n",
    "sum = a + b\n",
    "difference = a - b\n",
    "product = a * b\n",
    "quotient = a / b\n",
    "remainder = a % b\n",
    "log = math.log10(a)\n",
    "power = a**b\n",
    "\n",
    "print(\"a + b = %d\" % sum)\n",
    "print(\"a - b = %d\" % difference)\n",
    "print(\"a * b = %d\" % product)\n",
    "print(\"a / b = %d\" % quotient)\n",
    "print(\"a mod b = %d\" % remainder)\n",
    "print(\"log10(a) = %d\" % log)\n",
    "print(\"a^b = %d\" % power)\n"
   ]
  },
  {
   "cell_type": "code",
   "execution_count": 139,
   "id": "30b8b632-887b-4bfb-9104-02a18ce0e7d6",
   "metadata": {},
   "outputs": [
    {
     "name": "stdin",
     "output_type": "stream",
     "text": [
      "Efficacité énergétique (en miles-par-gallon) : 24\n"
     ]
    },
    {
     "name": "stdout",
     "output_type": "stream",
     "text": [
      "=> 24.00 mpg = 9.80 litres par kilomètre\n"
     ]
    }
   ],
   "source": [
    "# 11\n",
    "mpg = float(input(\"Efficacité énergétique (en miles-par-gallon) :\"))\n",
    "lpk = 235.21 / mpg \n",
    "\n",
    "print(\"=> %.2f mpg = %.2f litres par kilomètre\" % (mpg, lpk))"
   ]
  },
  {
   "cell_type": "code",
   "execution_count": 157,
   "id": "6eb87fb4-6704-41c6-a5cd-06f4f39f4dd9",
   "metadata": {},
   "outputs": [
    {
     "name": "stdout",
     "output_type": "stream",
     "text": [
      "Point n°1\n"
     ]
    },
    {
     "name": "stdin",
     "output_type": "stream",
     "text": [
      "Latitude : 15.2\n",
      "Longitude : 36.5\n"
     ]
    },
    {
     "name": "stdout",
     "output_type": "stream",
     "text": [
      "Point n°2\n"
     ]
    },
    {
     "name": "stdin",
     "output_type": "stream",
     "text": [
      "Latitude : 58.26\n",
      "Longitude : 35.47\n"
     ]
    },
    {
     "name": "stdout",
     "output_type": "stream",
     "text": [
      "\n",
      "Distance entre les deux points : 4788.8264 km\n"
     ]
    }
   ],
   "source": [
    "# 12\n",
    "import math\n",
    "\n",
    "print(\"Point n°1\")\n",
    "lat1 = math.radians(float(input(\"Latitude :\")))\n",
    "lon1 = math.radians(float(input(\"Longitude :\")))\n",
    "print(\"Point n°2\")\n",
    "lat2 = math.radians(float(input(\"Latitude :\")))\n",
    "lon2 = math.radians(float(input(\"Longitude :\"))) \n",
    "\n",
    "distance = 6371.01 * math.acos(math.sin(lat1) * math.sin(lat2) + math.cos(lat1) * math.cos(lat2) * math.cos(lon1 - lon2))\n",
    "\n",
    "print()\n",
    "print(\"Distance entre les deux points : %.4f km\" % distance)"
   ]
  },
  {
   "cell_type": "code",
   "execution_count": 205,
   "id": "0b8575ae-466d-4244-9efb-44f9167bf775",
   "metadata": {},
   "outputs": [
    {
     "name": "stdin",
     "output_type": "stream",
     "text": [
      "Nombre de centimes à convertir : 340\n"
     ]
    },
    {
     "name": "stdout",
     "output_type": "stream",
     "text": [
      "1 toonies\n",
      "1 loonies\n",
      "1 quarters\n",
      "1 dimes\n",
      "1 nickels\n"
     ]
    }
   ],
   "source": [
    "# 13\n",
    "cents = int(input(\"Nombre de centimes à convertir :\"))\n",
    "\n",
    "coins = [\n",
    "    (200, \"toonies\"),\n",
    "    (100, \"loonies\"),\n",
    "    (25,  \"quarters\"),\n",
    "    (10,  \"dimes\"),\n",
    "    (5,   \"nickels\"),\n",
    "    (1,   \"pennies\")\n",
    "]\n",
    "\n",
    "coin = 0\n",
    "number = 0\n",
    "\n",
    "while cents != 0:\n",
    "    number = 0\n",
    "    \n",
    "    while (number + 1) * coins[coin][0] <= cents:\n",
    "        number += 1\n",
    "\n",
    "\n",
    "    if number != 0:\n",
    "        print(\"%u %s\" % (number, coins[coin][1]))\n",
    "    \n",
    "    cents -= (number * coins[coin][0]) \n",
    "    coin += 1"
   ]
  },
  {
   "cell_type": "code",
   "execution_count": 219,
   "id": "41de3291-328c-457d-bf7f-9499b299dc90",
   "metadata": {},
   "outputs": [
    {
     "name": "stdin",
     "output_type": "stream",
     "text": [
      "Pieds : 6\n",
      "Pouces : 5.5\n"
     ]
    },
    {
     "name": "stdout",
     "output_type": "stream",
     "text": [
      "En mètres : 1.98\n"
     ]
    }
   ],
   "source": [
    "# 14\n",
    "feet = float(input(\"Pieds :\"))\n",
    "inches = float(input(\"Pouces :\"))\n",
    "\n",
    "meters = feet / 3.281\n",
    "meters += inches / 36.37\n",
    "\n",
    "print(\"En mètres : %.2f\" % meters)"
   ]
  },
  {
   "cell_type": "code",
   "execution_count": 333,
   "id": "c5dff6dc-548f-4e9c-8cb1-a61eee7417a1",
   "metadata": {},
   "outputs": [
    {
     "name": "stdin",
     "output_type": "stream",
     "text": [
      "Rayon du cercle : 1\n"
     ]
    },
    {
     "name": "stdout",
     "output_type": "stream",
     "text": [
      "\n",
      "Aire du cercle : 3.141593\n",
      "Volume de la sphère : 4.188790\n"
     ]
    }
   ],
   "source": [
    "# 16\n",
    "import math \n",
    "\n",
    "r = float(input(\"Rayon du cercle :\"))\n",
    "\n",
    "area = math.pi * (r ** 2)\n",
    "volume = (4 / 3) * math.pi * (r ** 3)\n",
    "\n",
    "print()\n",
    "print(\"Aire du cercle : %f\" % area)\n",
    "print(\"Volume de la sphère : %f\" % volume)"
   ]
  },
  {
   "cell_type": "code",
   "execution_count": 229,
   "id": "48e46da9-9692-4a3b-949f-e13587febabd",
   "metadata": {},
   "outputs": [
    {
     "name": "stdin",
     "output_type": "stream",
     "text": [
      "Masse d'eau (en kg) : 1\n",
      "Différence de température (en °C) : 10\n"
     ]
    },
    {
     "name": "stdout",
     "output_type": "stream",
     "text": [
      "L'energie nécessaire pour réaliser le changement est de 41.86 J\n"
     ]
    }
   ],
   "source": [
    "# 17\n",
    "m = float(input(\"Masse d'eau (en kg) :\"))\n",
    "dT = float(input(\"Différence de température (en °C) :\"))\n",
    "C = 4.186\n",
    "\n",
    "energy = m * C * dT\n",
    "print(\"L'energie nécessaire pour réaliser le changement est de %.2f J\" % energy)"
   ]
  },
  {
   "cell_type": "code",
   "execution_count": 337,
   "id": "ad14af77-bf31-46b4-ab73-768fda2cfa08",
   "metadata": {},
   "outputs": [
    {
     "name": "stdin",
     "output_type": "stream",
     "text": [
      "Rayon de la base : 1\n",
      "Hauteur du cylindre : 1\n"
     ]
    },
    {
     "name": "stdout",
     "output_type": "stream",
     "text": [
      "Volume du cylindre : 3.14\n"
     ]
    }
   ],
   "source": [
    "# 18\n",
    "import math\n",
    "\n",
    "r = float(input(\"Rayon de la base :\"))\n",
    "h = float(input(\"Hauteur du cylindre :\"))\n",
    "\n",
    "area = math.pi * (r ** 2) * h\n",
    "print(\"Volume du cylindre : %.2f\" % area)"
   ]
  },
  {
   "cell_type": "code",
   "execution_count": 343,
   "id": "2624c3b1-301e-4b81-8dd6-acc0201b374b",
   "metadata": {},
   "outputs": [
    {
     "name": "stdin",
     "output_type": "stream",
     "text": [
      "Distance à laquelle l'objet est lâché (em mètres) : 2\n"
     ]
    },
    {
     "name": "stdout",
     "output_type": "stream",
     "text": [
      "Un objet lâché à 2.00 mètres du sol ira à 6.26 m/s à l'impact\n"
     ]
    }
   ],
   "source": [
    "# 19\n",
    "import math \n",
    "\n",
    "d = int(input(\"Distance à laquelle l'objet est lâché (em mètres) :\"))\n",
    "vi = 0\n",
    "a = 9.8\n",
    "\n",
    "v = math.sqrt((vi ** 2) + (2 * a * d))\n",
    "print(\"Un objet lâché à %.2f mètres du sol ira à %.2f m/s à l'impact\" % (d, v))"
   ]
  },
  {
   "cell_type": "code",
   "execution_count": 351,
   "id": "5b2aacb1-1f71-43df-8aea-6fb572a25520",
   "metadata": {},
   "outputs": [
    {
     "name": "stdin",
     "output_type": "stream",
     "text": [
      "Pression (en Pascals) : 20000000\n",
      "Volume (en litres) : 12\n",
      "Temperature (en °C) : 20\n"
     ]
    },
    {
     "name": "stdout",
     "output_type": "stream",
     "text": [
      "Nombre de moles de gaz : 98471\n"
     ]
    }
   ],
   "source": [
    "# 20\n",
    "P = float(input(\"Pression (en Pascals) :\"))\n",
    "V = float(input(\"Volume (en litres) :\"))\n",
    "T = float(input(\"Temperature (en °C) :\")) + 273.15\n",
    "R = 8.314\n",
    "\n",
    "n = (P * V) / (R * T)\n",
    "print(\"Nombre de moles de gaz : %u\" % n)"
   ]
  },
  {
   "cell_type": "code",
   "execution_count": 353,
   "id": "ba07ead0-8100-447a-9be9-70ab5c5120d3",
   "metadata": {},
   "outputs": [
    {
     "name": "stdin",
     "output_type": "stream",
     "text": [
      "Longueur de la base : 1\n",
      "Hauteur : 1\n"
     ]
    },
    {
     "name": "stdout",
     "output_type": "stream",
     "text": [
      "Aire du triangle : 0.50\n"
     ]
    }
   ],
   "source": [
    "# 21\n",
    "b = float(input(\"Longueur de la base :\"))\n",
    "h = float(input(\"Hauteur :\"))\n",
    "\n",
    "area = (b * h) / 2\n",
    "print(\"Aire du triangle : %.2f\" % area)"
   ]
  },
  {
   "cell_type": "code",
   "execution_count": 359,
   "id": "711764d2-d7f3-461c-a7c5-a9b1410434ac",
   "metadata": {},
   "outputs": [
    {
     "name": "stdin",
     "output_type": "stream",
     "text": [
      "Côté n°1 : 1\n",
      "Côté n°2 : 1\n",
      "Côté n°3 : 1.41421356237\n"
     ]
    },
    {
     "name": "stdout",
     "output_type": "stream",
     "text": [
      "Aire du triangle : 0.50\n"
     ]
    }
   ],
   "source": [
    "# 22\n",
    "import math\n",
    "\n",
    "s1 = float(input(\"Côté n°1 :\"))\n",
    "s2 = float(input(\"Côté n°2 :\"))\n",
    "s3 = float(input(\"Côté n°3 :\"))\n",
    "s = (s1 + s2 + s3) / 2\n",
    "\n",
    "area = math.sqrt(s * (s - s1) * (s - s2) * (s - s3))\n",
    "print(\"Aire du triangle : %.2f\" % area)"
   ]
  },
  {
   "cell_type": "code",
   "execution_count": 367,
   "id": "03b9b912-65a8-48b0-9039-9b221b4f2882",
   "metadata": {},
   "outputs": [
    {
     "name": "stdin",
     "output_type": "stream",
     "text": [
      "Longueur des côtés : 1\n",
      "Nombre de côtés : 4\n"
     ]
    },
    {
     "name": "stdout",
     "output_type": "stream",
     "text": [
      "Aire du polygone régulier : 1.00\n"
     ]
    }
   ],
   "source": [
    "# 23\n",
    "import math\n",
    "\n",
    "s = float(input(\"Longueur des côtés :\"))\n",
    "n = float(input(\"Nombre de côtés :\"))\n",
    "\n",
    "area = (n * (s ** 2)) / (4 * math.tan(math.pi / n))\n",
    "\n",
    "print(\"Aire du polygone régulier : %.2f\" % area)"
   ]
  },
  {
   "cell_type": "code",
   "execution_count": 235,
   "id": "cdca0605-6a45-4471-b1e7-1c85c35c746b",
   "metadata": {},
   "outputs": [
    {
     "name": "stdin",
     "output_type": "stream",
     "text": [
      "Jours : 1\n",
      "Heures : 1\n",
      "Minutes : 1\n",
      "Secondes : 1\n"
     ]
    },
    {
     "name": "stdout",
     "output_type": "stream",
     "text": [
      "Il y a 90061 secondes dans 1 jour(s) 1 heure(s) 1 minute(s) 1 seconde(s)\n"
     ]
    }
   ],
   "source": [
    "# 24\n",
    "days = int(input(\"Jours :\"))\n",
    "hours = int(input(\"Heures :\"))\n",
    "minutes = int(input(\"Minutes :\"))\n",
    "seconds = int(input(\"Secondes :\"))\n",
    "\n",
    "total = seconds\n",
    "total += minutes * 60\n",
    "total += hours * 3600\n",
    "total += days * 86400\n",
    "\n",
    "print(\"Il y a %u secondes dans %u jour(s) %u heure(s) %u minute(s) %u seconde(s)\" % (total, days, hours, minutes, seconds))"
   ]
  },
  {
   "cell_type": "code",
   "execution_count": 247,
   "id": "e8c0cab3-9cb6-40b3-a4f9-1733212bd02a",
   "metadata": {},
   "outputs": [
    {
     "name": "stdin",
     "output_type": "stream",
     "text": [
      "Durée en secondes : 86400\n"
     ]
    },
    {
     "name": "stdout",
     "output_type": "stream",
     "text": [
      "1:00:00:00\n"
     ]
    }
   ],
   "source": [
    "# 25\n",
    "total = int(input(\"Durée en secondes :\"))\n",
    "\n",
    "days = total // 86400\n",
    "total -= days * 86400\n",
    "\n",
    "hours = total // 3600\n",
    "total -= hours * 3600\n",
    "\n",
    "minutes = total // 60\n",
    "total -= hours * 60\n",
    "\n",
    "seconds = total\n",
    "\n",
    "print(\"%u:%02u:%02u:%02u\" % (days, hours, minutes, seconds))"
   ]
  },
  {
   "cell_type": "code",
   "execution_count": 253,
   "id": "f02c196c-d6f7-462b-aa11-c5de829f08af",
   "metadata": {},
   "outputs": [
    {
     "name": "stdout",
     "output_type": "stream",
     "text": [
      "Wed Oct 16 16:09:48 2024\n"
     ]
    }
   ],
   "source": [
    "# 26\n",
    "import time\n",
    "print(time.asctime())"
   ]
  },
  {
   "cell_type": "code",
   "execution_count": 305,
   "id": "fc539b93-a5e3-49fc-a382-b2764af26a94",
   "metadata": {},
   "outputs": [
    {
     "name": "stdin",
     "output_type": "stream",
     "text": [
      "Année : 2025\n"
     ]
    },
    {
     "name": "stdout",
     "output_type": "stream",
     "text": [
      "20 April 2025\n"
     ]
    }
   ],
   "source": [
    "# 27\n",
    "from datetime import datetime\n",
    "from math import floor\n",
    "\n",
    "year = int(input(\"Année :\"))\n",
    "\n",
    "a = year % 19\n",
    "b = floor(year / 100)\n",
    "c = year % 100\n",
    "d = floor(b / 4)\n",
    "e = b % 4\n",
    "f = floor((b + 8) / 25)\n",
    "g = floor((b - f + 1) / 3)\n",
    "h = ((19 * a) + b - d - g + 15) % 30\n",
    "i = floor(c / 4)\n",
    "k = c % 4\n",
    "l = (32 + (2 * e) + (2 * i) - h - k) % 7\n",
    "m = floor((a + (11 * h) + (22 * l)) / (451))\n",
    "\n",
    "month = floor((h + l - (7 * m) + 114) / 31)\n",
    "day = (h + l - (7 * m) + 114) % 31 + 1\n",
    "\n",
    "easter = datetime(day=day, month=month, year=year)\n",
    "date = datetime.strftime(easter, \"%d %B %Y\")\n",
    "\n",
    "print(date)"
   ]
  },
  {
   "cell_type": "code",
   "execution_count": 385,
   "id": "27fb1f72-10e6-4775-894f-1ce0b2fc23c4",
   "metadata": {},
   "outputs": [
    {
     "name": "stdin",
     "output_type": "stream",
     "text": [
      "Votre taille (en m) : 1.98\n",
      "Votre poids (en kg) : 81\n"
     ]
    },
    {
     "name": "stdout",
     "output_type": "stream",
     "text": [
      "Votre indice de masse corporelle est de : 20.66\n"
     ]
    }
   ],
   "source": [
    "# 28\n",
    "height = float(input(\"Votre taille (en m) :\"))\n",
    "weight = float(input(\"Votre poids (en kg) :\"))\n",
    "\n",
    "bmi = (weight / (height * height))\n",
    "\n",
    "print(\"Votre indice de masse corporelle est de : %.2f\" % bmi)"
   ]
  },
  {
   "cell_type": "code",
   "execution_count": 381,
   "id": "9b640b01-a878-4109-9a37-e3936fc0344d",
   "metadata": {},
   "outputs": [
    {
     "name": "stdin",
     "output_type": "stream",
     "text": [
      "Vitesse du vent (en km/h) : 2\n",
      "Température de l'air (en °C) : 25\n"
     ]
    },
    {
     "name": "stdout",
     "output_type": "stream",
     "text": [
      "\"Wind chill index\" : 17.36\n"
     ]
    }
   ],
   "source": [
    "# 29\n",
    "wind_speed = float(input(\"Vitesse du vent (en km/h) :\"))\n",
    "air_temperature = float(input(\"Température de l'air (en °C) :\"))\n",
    "\n",
    "wci = 13.2 + (0.6215 * air_temperature) - (11.37 * (wind_speed ** 0.16)) + (0.3965 * wind_speed * (air_temperature ** 0.16))\n",
    "\n",
    "print(\"\\\"Wind chill index\\\" : %.2f\" % wci)"
   ]
  },
  {
   "cell_type": "code",
   "execution_count": 383,
   "id": "c3134b4e-f863-4602-900b-8523690dd1e6",
   "metadata": {},
   "outputs": [
    {
     "name": "stdin",
     "output_type": "stream",
     "text": [
      "Température (en °C) : 30\n"
     ]
    },
    {
     "name": "stdout",
     "output_type": "stream",
     "text": [
      "Température (en F) : 86.00\n",
      "Température (en K) : -243.15\n"
     ]
    }
   ],
   "source": [
    "# 30\n",
    "celsius = float(input(\"Température (en °C) :\"))\n",
    "\n",
    "kelvin = celsius - 273.15\n",
    "farenheit = celsius * (9 / 5) + 32\n",
    "\n",
    "print(\"Température (en F) : %.2f\" % farenheit)\n",
    "print(\"Température (en K) : %.2f\" % kelvin)"
   ]
  },
  {
   "cell_type": "code",
   "execution_count": 389,
   "id": "6cb1da8d-045c-46c6-a703-548a00e55093",
   "metadata": {},
   "outputs": [
    {
     "name": "stdin",
     "output_type": "stream",
     "text": [
      "Pression (en kilo-pascals) : 100\n"
     ]
    },
    {
     "name": "stdout",
     "output_type": "stream",
     "text": [
      "En square per inch : 14.50\n",
      "En millimeters of mercury : 750.10\n",
      "En pression atmospherique : 0.99\n"
     ]
    }
   ],
   "source": [
    "# 31\n",
    "kpa = float(input(\"Pression (en kilo-pascals) :\"))\n",
    "psi = kpa / 6.895\n",
    "torr = kpa * 7.501\n",
    "atm = kpa / 101.3\n",
    "\n",
    "print(\"En square per inch : %.2f\" % psi)\n",
    "print(\"En millimeters of mercury : %.2f\" % torr)\n",
    "print(\"En pression atmospherique : %.2f\" % atm)"
   ]
  },
  {
   "cell_type": "code",
   "execution_count": 313,
   "id": "fd651bbe-4e0a-4c4a-a0c4-6de49441aa5a",
   "metadata": {},
   "outputs": [
    {
     "name": "stdin",
     "output_type": "stream",
     "text": [
      "Nombre : 475812\n"
     ]
    },
    {
     "name": "stdout",
     "output_type": "stream",
     "text": [
      "4 + 7 + 5 + 8 + 1 + 2\n"
     ]
    }
   ],
   "source": [
    "# 32\n",
    "integer = input(\"Nombre :\")\n",
    "\n",
    "for i, c in enumerate(integer):\n",
    "    if(i + 1 < len(integer)):\n",
    "        print(\"%s + \" % c, end=\"\")\n",
    "    else:\n",
    "        print(\"%s\" % c)"
   ]
  },
  {
   "cell_type": "code",
   "execution_count": 325,
   "id": "ef77db11-61d8-43e1-b984-d96671e653f1",
   "metadata": {},
   "outputs": [
    {
     "name": "stdin",
     "output_type": "stream",
     "text": [
      "A : 5\n",
      "B : 4\n",
      "C : 1\n"
     ]
    },
    {
     "name": "stdout",
     "output_type": "stream",
     "text": [
      "\n",
      "1 4 5\n"
     ]
    }
   ],
   "source": [
    "# 33\n",
    "a = int(input(\"A :\"))\n",
    "b = int(input(\"B :\"))\n",
    "c = int(input(\"C :\"))\n",
    "\n",
    "A = min(a, min(b, c))\n",
    "C = max(a, max(b, c))\n",
    "B = a + b + c - A - C\n",
    "\n",
    "print()\n",
    "print(\"%u %u %u\" % (A, B, C))"
   ]
  },
  {
   "cell_type": "code",
   "execution_count": 331,
   "id": "58ae4dfd-9db4-45fc-8e46-1b1b0ea71e8f",
   "metadata": {},
   "outputs": [
    {
     "name": "stdin",
     "output_type": "stream",
     "text": [
      "Nombre de pains d'hier : 10\n"
     ]
    },
    {
     "name": "stdout",
     "output_type": "stream",
     "text": [
      "Prix sans reduc : 34.90 €\n",
      "Reduc : 13.96 €\n",
      "Total : 20.94 €\n"
     ]
    }
   ],
   "source": [
    "# 34\n",
    "nb = int(input(\"Nombre de pains d'hier :\"))\n",
    "\n",
    "price_fresh = nb * 3.49\n",
    "discount = price_fresh * 0.4\n",
    "price_old = price_fresh - discount\n",
    "\n",
    "print(\"Prix sans reduc : %.2f €\" % price_fresh)\n",
    "print(\"Reduc : %.2f €\" % discount)\n",
    "print(\"Total : %.2f €\" % price_old)"
   ]
  },
  {
   "cell_type": "code",
   "execution_count": null,
   "id": "24cbef08-c208-427b-a436-d8fd365fed7b",
   "metadata": {},
   "outputs": [],
   "source": []
  }
 ],
 "metadata": {
  "kernelspec": {
   "display_name": "Python 3 (ipykernel)",
   "language": "python",
   "name": "python3"
  },
  "language_info": {
   "codemirror_mode": {
    "name": "ipython",
    "version": 3
   },
   "file_extension": ".py",
   "mimetype": "text/x-python",
   "name": "python",
   "nbconvert_exporter": "python",
   "pygments_lexer": "ipython3",
   "version": "3.12.4"
  }
 },
 "nbformat": 4,
 "nbformat_minor": 5
}
